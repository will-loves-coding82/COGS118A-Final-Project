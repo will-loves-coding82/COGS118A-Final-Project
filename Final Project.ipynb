{
 "cells": [
  {
   "cell_type": "code",
   "execution_count": 57,
   "id": "8a3cbce7",
   "metadata": {
    "scrolled": true
   },
   "outputs": [],
   "source": [
    "import numpy as np\n",
    "import pandas as pd\n",
    "from sklearn.datasets import make_classification\n",
    "from sklearn import svm\n",
    "from sklearn.model_selection import train_test_split\n",
    "from sklearn.model_selection import GridSearchCV\n"
   ]
  },
  {
   "cell_type": "markdown",
   "id": "1444610d",
   "metadata": {},
   "source": [
    "# Data Set Up\n",
    "Welcome to my final project assignment for COGS118A. \n"
   ]
  },
  {
   "cell_type": "code",
   "execution_count": 58,
   "id": "c5afd2a8",
   "metadata": {
    "scrolled": true
   },
   "outputs": [
    {
     "data": {
      "text/html": [
       "<div>\n",
       "<style scoped>\n",
       "    .dataframe tbody tr th:only-of-type {\n",
       "        vertical-align: middle;\n",
       "    }\n",
       "\n",
       "    .dataframe tbody tr th {\n",
       "        vertical-align: top;\n",
       "    }\n",
       "\n",
       "    .dataframe thead th {\n",
       "        text-align: right;\n",
       "    }\n",
       "</style>\n",
       "<table border=\"1\" class=\"dataframe\">\n",
       "  <thead>\n",
       "    <tr style=\"text-align: right;\">\n",
       "      <th></th>\n",
       "      <th>age</th>\n",
       "      <th>job</th>\n",
       "      <th>marital</th>\n",
       "      <th>education</th>\n",
       "      <th>default</th>\n",
       "      <th>balance</th>\n",
       "      <th>housing</th>\n",
       "      <th>loan</th>\n",
       "      <th>contact</th>\n",
       "      <th>day</th>\n",
       "      <th>month</th>\n",
       "      <th>duration</th>\n",
       "      <th>campaign</th>\n",
       "      <th>pdays</th>\n",
       "      <th>previous</th>\n",
       "      <th>poutcome</th>\n",
       "      <th>y</th>\n",
       "    </tr>\n",
       "  </thead>\n",
       "  <tbody>\n",
       "    <tr>\n",
       "      <th>0</th>\n",
       "      <td>58</td>\n",
       "      <td>management</td>\n",
       "      <td>married</td>\n",
       "      <td>tertiary</td>\n",
       "      <td>no</td>\n",
       "      <td>2143</td>\n",
       "      <td>yes</td>\n",
       "      <td>no</td>\n",
       "      <td>unknown</td>\n",
       "      <td>5</td>\n",
       "      <td>may</td>\n",
       "      <td>261</td>\n",
       "      <td>1</td>\n",
       "      <td>-1</td>\n",
       "      <td>0</td>\n",
       "      <td>unknown</td>\n",
       "      <td>no</td>\n",
       "    </tr>\n",
       "    <tr>\n",
       "      <th>1</th>\n",
       "      <td>44</td>\n",
       "      <td>technician</td>\n",
       "      <td>single</td>\n",
       "      <td>secondary</td>\n",
       "      <td>no</td>\n",
       "      <td>29</td>\n",
       "      <td>yes</td>\n",
       "      <td>no</td>\n",
       "      <td>unknown</td>\n",
       "      <td>5</td>\n",
       "      <td>may</td>\n",
       "      <td>151</td>\n",
       "      <td>1</td>\n",
       "      <td>-1</td>\n",
       "      <td>0</td>\n",
       "      <td>unknown</td>\n",
       "      <td>no</td>\n",
       "    </tr>\n",
       "    <tr>\n",
       "      <th>2</th>\n",
       "      <td>33</td>\n",
       "      <td>entrepreneur</td>\n",
       "      <td>married</td>\n",
       "      <td>secondary</td>\n",
       "      <td>no</td>\n",
       "      <td>2</td>\n",
       "      <td>yes</td>\n",
       "      <td>yes</td>\n",
       "      <td>unknown</td>\n",
       "      <td>5</td>\n",
       "      <td>may</td>\n",
       "      <td>76</td>\n",
       "      <td>1</td>\n",
       "      <td>-1</td>\n",
       "      <td>0</td>\n",
       "      <td>unknown</td>\n",
       "      <td>no</td>\n",
       "    </tr>\n",
       "    <tr>\n",
       "      <th>3</th>\n",
       "      <td>47</td>\n",
       "      <td>blue-collar</td>\n",
       "      <td>married</td>\n",
       "      <td>unknown</td>\n",
       "      <td>no</td>\n",
       "      <td>1506</td>\n",
       "      <td>yes</td>\n",
       "      <td>no</td>\n",
       "      <td>unknown</td>\n",
       "      <td>5</td>\n",
       "      <td>may</td>\n",
       "      <td>92</td>\n",
       "      <td>1</td>\n",
       "      <td>-1</td>\n",
       "      <td>0</td>\n",
       "      <td>unknown</td>\n",
       "      <td>no</td>\n",
       "    </tr>\n",
       "    <tr>\n",
       "      <th>4</th>\n",
       "      <td>33</td>\n",
       "      <td>unknown</td>\n",
       "      <td>single</td>\n",
       "      <td>unknown</td>\n",
       "      <td>no</td>\n",
       "      <td>1</td>\n",
       "      <td>no</td>\n",
       "      <td>no</td>\n",
       "      <td>unknown</td>\n",
       "      <td>5</td>\n",
       "      <td>may</td>\n",
       "      <td>198</td>\n",
       "      <td>1</td>\n",
       "      <td>-1</td>\n",
       "      <td>0</td>\n",
       "      <td>unknown</td>\n",
       "      <td>no</td>\n",
       "    </tr>\n",
       "    <tr>\n",
       "      <th>...</th>\n",
       "      <td>...</td>\n",
       "      <td>...</td>\n",
       "      <td>...</td>\n",
       "      <td>...</td>\n",
       "      <td>...</td>\n",
       "      <td>...</td>\n",
       "      <td>...</td>\n",
       "      <td>...</td>\n",
       "      <td>...</td>\n",
       "      <td>...</td>\n",
       "      <td>...</td>\n",
       "      <td>...</td>\n",
       "      <td>...</td>\n",
       "      <td>...</td>\n",
       "      <td>...</td>\n",
       "      <td>...</td>\n",
       "      <td>...</td>\n",
       "    </tr>\n",
       "    <tr>\n",
       "      <th>45206</th>\n",
       "      <td>51</td>\n",
       "      <td>technician</td>\n",
       "      <td>married</td>\n",
       "      <td>tertiary</td>\n",
       "      <td>no</td>\n",
       "      <td>825</td>\n",
       "      <td>no</td>\n",
       "      <td>no</td>\n",
       "      <td>cellular</td>\n",
       "      <td>17</td>\n",
       "      <td>nov</td>\n",
       "      <td>977</td>\n",
       "      <td>3</td>\n",
       "      <td>-1</td>\n",
       "      <td>0</td>\n",
       "      <td>unknown</td>\n",
       "      <td>yes</td>\n",
       "    </tr>\n",
       "    <tr>\n",
       "      <th>45207</th>\n",
       "      <td>71</td>\n",
       "      <td>retired</td>\n",
       "      <td>divorced</td>\n",
       "      <td>primary</td>\n",
       "      <td>no</td>\n",
       "      <td>1729</td>\n",
       "      <td>no</td>\n",
       "      <td>no</td>\n",
       "      <td>cellular</td>\n",
       "      <td>17</td>\n",
       "      <td>nov</td>\n",
       "      <td>456</td>\n",
       "      <td>2</td>\n",
       "      <td>-1</td>\n",
       "      <td>0</td>\n",
       "      <td>unknown</td>\n",
       "      <td>yes</td>\n",
       "    </tr>\n",
       "    <tr>\n",
       "      <th>45208</th>\n",
       "      <td>72</td>\n",
       "      <td>retired</td>\n",
       "      <td>married</td>\n",
       "      <td>secondary</td>\n",
       "      <td>no</td>\n",
       "      <td>5715</td>\n",
       "      <td>no</td>\n",
       "      <td>no</td>\n",
       "      <td>cellular</td>\n",
       "      <td>17</td>\n",
       "      <td>nov</td>\n",
       "      <td>1127</td>\n",
       "      <td>5</td>\n",
       "      <td>184</td>\n",
       "      <td>3</td>\n",
       "      <td>success</td>\n",
       "      <td>yes</td>\n",
       "    </tr>\n",
       "    <tr>\n",
       "      <th>45209</th>\n",
       "      <td>57</td>\n",
       "      <td>blue-collar</td>\n",
       "      <td>married</td>\n",
       "      <td>secondary</td>\n",
       "      <td>no</td>\n",
       "      <td>668</td>\n",
       "      <td>no</td>\n",
       "      <td>no</td>\n",
       "      <td>telephone</td>\n",
       "      <td>17</td>\n",
       "      <td>nov</td>\n",
       "      <td>508</td>\n",
       "      <td>4</td>\n",
       "      <td>-1</td>\n",
       "      <td>0</td>\n",
       "      <td>unknown</td>\n",
       "      <td>no</td>\n",
       "    </tr>\n",
       "    <tr>\n",
       "      <th>45210</th>\n",
       "      <td>37</td>\n",
       "      <td>entrepreneur</td>\n",
       "      <td>married</td>\n",
       "      <td>secondary</td>\n",
       "      <td>no</td>\n",
       "      <td>2971</td>\n",
       "      <td>no</td>\n",
       "      <td>no</td>\n",
       "      <td>cellular</td>\n",
       "      <td>17</td>\n",
       "      <td>nov</td>\n",
       "      <td>361</td>\n",
       "      <td>2</td>\n",
       "      <td>188</td>\n",
       "      <td>11</td>\n",
       "      <td>other</td>\n",
       "      <td>no</td>\n",
       "    </tr>\n",
       "  </tbody>\n",
       "</table>\n",
       "<p>45211 rows × 17 columns</p>\n",
       "</div>"
      ],
      "text/plain": [
       "       age           job   marital  education default  balance housing loan  \\\n",
       "0       58    management   married   tertiary      no     2143     yes   no   \n",
       "1       44    technician    single  secondary      no       29     yes   no   \n",
       "2       33  entrepreneur   married  secondary      no        2     yes  yes   \n",
       "3       47   blue-collar   married    unknown      no     1506     yes   no   \n",
       "4       33       unknown    single    unknown      no        1      no   no   \n",
       "...    ...           ...       ...        ...     ...      ...     ...  ...   \n",
       "45206   51    technician   married   tertiary      no      825      no   no   \n",
       "45207   71       retired  divorced    primary      no     1729      no   no   \n",
       "45208   72       retired   married  secondary      no     5715      no   no   \n",
       "45209   57   blue-collar   married  secondary      no      668      no   no   \n",
       "45210   37  entrepreneur   married  secondary      no     2971      no   no   \n",
       "\n",
       "         contact  day month  duration  campaign  pdays  previous poutcome    y  \n",
       "0        unknown    5   may       261         1     -1         0  unknown   no  \n",
       "1        unknown    5   may       151         1     -1         0  unknown   no  \n",
       "2        unknown    5   may        76         1     -1         0  unknown   no  \n",
       "3        unknown    5   may        92         1     -1         0  unknown   no  \n",
       "4        unknown    5   may       198         1     -1         0  unknown   no  \n",
       "...          ...  ...   ...       ...       ...    ...       ...      ...  ...  \n",
       "45206   cellular   17   nov       977         3     -1         0  unknown  yes  \n",
       "45207   cellular   17   nov       456         2     -1         0  unknown  yes  \n",
       "45208   cellular   17   nov      1127         5    184         3  success  yes  \n",
       "45209  telephone   17   nov       508         4     -1         0  unknown   no  \n",
       "45210   cellular   17   nov       361         2    188        11    other   no  \n",
       "\n",
       "[45211 rows x 17 columns]"
      ]
     },
     "metadata": {},
     "output_type": "display_data"
    }
   ],
   "source": [
    "bank_df = pd.read_csv(\"Bank/bank-full.csv\", sep = \";\")\n",
    "display(bank_df)"
   ]
  },
  {
   "cell_type": "code",
   "execution_count": 59,
   "id": "c252069f",
   "metadata": {
    "scrolled": false
   },
   "outputs": [
    {
     "data": {
      "text/html": [
       "<div>\n",
       "<style scoped>\n",
       "    .dataframe tbody tr th:only-of-type {\n",
       "        vertical-align: middle;\n",
       "    }\n",
       "\n",
       "    .dataframe tbody tr th {\n",
       "        vertical-align: top;\n",
       "    }\n",
       "\n",
       "    .dataframe thead th {\n",
       "        text-align: right;\n",
       "    }\n",
       "</style>\n",
       "<table border=\"1\" class=\"dataframe\">\n",
       "  <thead>\n",
       "    <tr style=\"text-align: right;\">\n",
       "      <th></th>\n",
       "      <th>p</th>\n",
       "      <th>x</th>\n",
       "      <th>s</th>\n",
       "      <th>n</th>\n",
       "      <th>t</th>\n",
       "      <th>p.1</th>\n",
       "      <th>f</th>\n",
       "      <th>c</th>\n",
       "      <th>n.1</th>\n",
       "      <th>k</th>\n",
       "      <th>...</th>\n",
       "      <th>s.2</th>\n",
       "      <th>w</th>\n",
       "      <th>w.1</th>\n",
       "      <th>p.2</th>\n",
       "      <th>w.2</th>\n",
       "      <th>o</th>\n",
       "      <th>p.3</th>\n",
       "      <th>k.1</th>\n",
       "      <th>s.3</th>\n",
       "      <th>u</th>\n",
       "    </tr>\n",
       "  </thead>\n",
       "  <tbody>\n",
       "    <tr>\n",
       "      <th>0</th>\n",
       "      <td>e</td>\n",
       "      <td>x</td>\n",
       "      <td>s</td>\n",
       "      <td>y</td>\n",
       "      <td>t</td>\n",
       "      <td>a</td>\n",
       "      <td>f</td>\n",
       "      <td>c</td>\n",
       "      <td>b</td>\n",
       "      <td>k</td>\n",
       "      <td>...</td>\n",
       "      <td>s</td>\n",
       "      <td>w</td>\n",
       "      <td>w</td>\n",
       "      <td>p</td>\n",
       "      <td>w</td>\n",
       "      <td>o</td>\n",
       "      <td>p</td>\n",
       "      <td>n</td>\n",
       "      <td>n</td>\n",
       "      <td>g</td>\n",
       "    </tr>\n",
       "    <tr>\n",
       "      <th>1</th>\n",
       "      <td>e</td>\n",
       "      <td>b</td>\n",
       "      <td>s</td>\n",
       "      <td>w</td>\n",
       "      <td>t</td>\n",
       "      <td>l</td>\n",
       "      <td>f</td>\n",
       "      <td>c</td>\n",
       "      <td>b</td>\n",
       "      <td>n</td>\n",
       "      <td>...</td>\n",
       "      <td>s</td>\n",
       "      <td>w</td>\n",
       "      <td>w</td>\n",
       "      <td>p</td>\n",
       "      <td>w</td>\n",
       "      <td>o</td>\n",
       "      <td>p</td>\n",
       "      <td>n</td>\n",
       "      <td>n</td>\n",
       "      <td>m</td>\n",
       "    </tr>\n",
       "    <tr>\n",
       "      <th>2</th>\n",
       "      <td>p</td>\n",
       "      <td>x</td>\n",
       "      <td>y</td>\n",
       "      <td>w</td>\n",
       "      <td>t</td>\n",
       "      <td>p</td>\n",
       "      <td>f</td>\n",
       "      <td>c</td>\n",
       "      <td>n</td>\n",
       "      <td>n</td>\n",
       "      <td>...</td>\n",
       "      <td>s</td>\n",
       "      <td>w</td>\n",
       "      <td>w</td>\n",
       "      <td>p</td>\n",
       "      <td>w</td>\n",
       "      <td>o</td>\n",
       "      <td>p</td>\n",
       "      <td>k</td>\n",
       "      <td>s</td>\n",
       "      <td>u</td>\n",
       "    </tr>\n",
       "    <tr>\n",
       "      <th>3</th>\n",
       "      <td>e</td>\n",
       "      <td>x</td>\n",
       "      <td>s</td>\n",
       "      <td>g</td>\n",
       "      <td>f</td>\n",
       "      <td>n</td>\n",
       "      <td>f</td>\n",
       "      <td>w</td>\n",
       "      <td>b</td>\n",
       "      <td>k</td>\n",
       "      <td>...</td>\n",
       "      <td>s</td>\n",
       "      <td>w</td>\n",
       "      <td>w</td>\n",
       "      <td>p</td>\n",
       "      <td>w</td>\n",
       "      <td>o</td>\n",
       "      <td>e</td>\n",
       "      <td>n</td>\n",
       "      <td>a</td>\n",
       "      <td>g</td>\n",
       "    </tr>\n",
       "    <tr>\n",
       "      <th>4</th>\n",
       "      <td>e</td>\n",
       "      <td>x</td>\n",
       "      <td>y</td>\n",
       "      <td>y</td>\n",
       "      <td>t</td>\n",
       "      <td>a</td>\n",
       "      <td>f</td>\n",
       "      <td>c</td>\n",
       "      <td>b</td>\n",
       "      <td>n</td>\n",
       "      <td>...</td>\n",
       "      <td>s</td>\n",
       "      <td>w</td>\n",
       "      <td>w</td>\n",
       "      <td>p</td>\n",
       "      <td>w</td>\n",
       "      <td>o</td>\n",
       "      <td>p</td>\n",
       "      <td>k</td>\n",
       "      <td>n</td>\n",
       "      <td>g</td>\n",
       "    </tr>\n",
       "    <tr>\n",
       "      <th>...</th>\n",
       "      <td>...</td>\n",
       "      <td>...</td>\n",
       "      <td>...</td>\n",
       "      <td>...</td>\n",
       "      <td>...</td>\n",
       "      <td>...</td>\n",
       "      <td>...</td>\n",
       "      <td>...</td>\n",
       "      <td>...</td>\n",
       "      <td>...</td>\n",
       "      <td>...</td>\n",
       "      <td>...</td>\n",
       "      <td>...</td>\n",
       "      <td>...</td>\n",
       "      <td>...</td>\n",
       "      <td>...</td>\n",
       "      <td>...</td>\n",
       "      <td>...</td>\n",
       "      <td>...</td>\n",
       "      <td>...</td>\n",
       "      <td>...</td>\n",
       "    </tr>\n",
       "    <tr>\n",
       "      <th>8118</th>\n",
       "      <td>e</td>\n",
       "      <td>k</td>\n",
       "      <td>s</td>\n",
       "      <td>n</td>\n",
       "      <td>f</td>\n",
       "      <td>n</td>\n",
       "      <td>a</td>\n",
       "      <td>c</td>\n",
       "      <td>b</td>\n",
       "      <td>y</td>\n",
       "      <td>...</td>\n",
       "      <td>s</td>\n",
       "      <td>o</td>\n",
       "      <td>o</td>\n",
       "      <td>p</td>\n",
       "      <td>o</td>\n",
       "      <td>o</td>\n",
       "      <td>p</td>\n",
       "      <td>b</td>\n",
       "      <td>c</td>\n",
       "      <td>l</td>\n",
       "    </tr>\n",
       "    <tr>\n",
       "      <th>8119</th>\n",
       "      <td>e</td>\n",
       "      <td>x</td>\n",
       "      <td>s</td>\n",
       "      <td>n</td>\n",
       "      <td>f</td>\n",
       "      <td>n</td>\n",
       "      <td>a</td>\n",
       "      <td>c</td>\n",
       "      <td>b</td>\n",
       "      <td>y</td>\n",
       "      <td>...</td>\n",
       "      <td>s</td>\n",
       "      <td>o</td>\n",
       "      <td>o</td>\n",
       "      <td>p</td>\n",
       "      <td>n</td>\n",
       "      <td>o</td>\n",
       "      <td>p</td>\n",
       "      <td>b</td>\n",
       "      <td>v</td>\n",
       "      <td>l</td>\n",
       "    </tr>\n",
       "    <tr>\n",
       "      <th>8120</th>\n",
       "      <td>e</td>\n",
       "      <td>f</td>\n",
       "      <td>s</td>\n",
       "      <td>n</td>\n",
       "      <td>f</td>\n",
       "      <td>n</td>\n",
       "      <td>a</td>\n",
       "      <td>c</td>\n",
       "      <td>b</td>\n",
       "      <td>n</td>\n",
       "      <td>...</td>\n",
       "      <td>s</td>\n",
       "      <td>o</td>\n",
       "      <td>o</td>\n",
       "      <td>p</td>\n",
       "      <td>o</td>\n",
       "      <td>o</td>\n",
       "      <td>p</td>\n",
       "      <td>b</td>\n",
       "      <td>c</td>\n",
       "      <td>l</td>\n",
       "    </tr>\n",
       "    <tr>\n",
       "      <th>8121</th>\n",
       "      <td>p</td>\n",
       "      <td>k</td>\n",
       "      <td>y</td>\n",
       "      <td>n</td>\n",
       "      <td>f</td>\n",
       "      <td>y</td>\n",
       "      <td>f</td>\n",
       "      <td>c</td>\n",
       "      <td>n</td>\n",
       "      <td>b</td>\n",
       "      <td>...</td>\n",
       "      <td>k</td>\n",
       "      <td>w</td>\n",
       "      <td>w</td>\n",
       "      <td>p</td>\n",
       "      <td>w</td>\n",
       "      <td>o</td>\n",
       "      <td>e</td>\n",
       "      <td>w</td>\n",
       "      <td>v</td>\n",
       "      <td>l</td>\n",
       "    </tr>\n",
       "    <tr>\n",
       "      <th>8122</th>\n",
       "      <td>e</td>\n",
       "      <td>x</td>\n",
       "      <td>s</td>\n",
       "      <td>n</td>\n",
       "      <td>f</td>\n",
       "      <td>n</td>\n",
       "      <td>a</td>\n",
       "      <td>c</td>\n",
       "      <td>b</td>\n",
       "      <td>y</td>\n",
       "      <td>...</td>\n",
       "      <td>s</td>\n",
       "      <td>o</td>\n",
       "      <td>o</td>\n",
       "      <td>p</td>\n",
       "      <td>o</td>\n",
       "      <td>o</td>\n",
       "      <td>p</td>\n",
       "      <td>o</td>\n",
       "      <td>c</td>\n",
       "      <td>l</td>\n",
       "    </tr>\n",
       "  </tbody>\n",
       "</table>\n",
       "<p>8123 rows × 23 columns</p>\n",
       "</div>"
      ],
      "text/plain": [
       "      p  x  s  n  t p.1  f  c n.1  k  ... s.2  w w.1 p.2 w.2  o p.3 k.1 s.3  u\n",
       "0     e  x  s  y  t   a  f  c   b  k  ...   s  w   w   p   w  o   p   n   n  g\n",
       "1     e  b  s  w  t   l  f  c   b  n  ...   s  w   w   p   w  o   p   n   n  m\n",
       "2     p  x  y  w  t   p  f  c   n  n  ...   s  w   w   p   w  o   p   k   s  u\n",
       "3     e  x  s  g  f   n  f  w   b  k  ...   s  w   w   p   w  o   e   n   a  g\n",
       "4     e  x  y  y  t   a  f  c   b  n  ...   s  w   w   p   w  o   p   k   n  g\n",
       "...  .. .. .. .. ..  .. .. ..  .. ..  ...  .. ..  ..  ..  .. ..  ..  ..  .. ..\n",
       "8118  e  k  s  n  f   n  a  c   b  y  ...   s  o   o   p   o  o   p   b   c  l\n",
       "8119  e  x  s  n  f   n  a  c   b  y  ...   s  o   o   p   n  o   p   b   v  l\n",
       "8120  e  f  s  n  f   n  a  c   b  n  ...   s  o   o   p   o  o   p   b   c  l\n",
       "8121  p  k  y  n  f   y  f  c   n  b  ...   k  w   w   p   w  o   e   w   v  l\n",
       "8122  e  x  s  n  f   n  a  c   b  y  ...   s  o   o   p   o  o   p   o   c  l\n",
       "\n",
       "[8123 rows x 23 columns]"
      ]
     },
     "metadata": {},
     "output_type": "display_data"
    }
   ],
   "source": [
    "mushroom_df = pd.read_csv(\"Mushroom/agaricus-lepiota.data\")\n",
    "display(mushroom_df)"
   ]
  },
  {
   "cell_type": "code",
   "execution_count": 60,
   "id": "8ff94842",
   "metadata": {
    "scrolled": true
   },
   "outputs": [
    {
     "data": {
      "text/html": [
       "<div>\n",
       "<style scoped>\n",
       "    .dataframe tbody tr th:only-of-type {\n",
       "        vertical-align: middle;\n",
       "    }\n",
       "\n",
       "    .dataframe tbody tr th {\n",
       "        vertical-align: top;\n",
       "    }\n",
       "\n",
       "    .dataframe thead th {\n",
       "        text-align: right;\n",
       "    }\n",
       "</style>\n",
       "<table border=\"1\" class=\"dataframe\">\n",
       "  <thead>\n",
       "    <tr style=\"text-align: right;\">\n",
       "      <th></th>\n",
       "      <th>39</th>\n",
       "      <th>State-gov</th>\n",
       "      <th>77516</th>\n",
       "      <th>Bachelors</th>\n",
       "      <th>13</th>\n",
       "      <th>Never-married</th>\n",
       "      <th>Adm-clerical</th>\n",
       "      <th>Not-in-family</th>\n",
       "      <th>White</th>\n",
       "      <th>Male</th>\n",
       "      <th>2174</th>\n",
       "      <th>0</th>\n",
       "      <th>40</th>\n",
       "      <th>United-States</th>\n",
       "      <th>&lt;=50K</th>\n",
       "    </tr>\n",
       "  </thead>\n",
       "  <tbody>\n",
       "    <tr>\n",
       "      <th>0</th>\n",
       "      <td>50</td>\n",
       "      <td>Self-emp-not-inc</td>\n",
       "      <td>83311</td>\n",
       "      <td>Bachelors</td>\n",
       "      <td>13</td>\n",
       "      <td>Married-civ-spouse</td>\n",
       "      <td>Exec-managerial</td>\n",
       "      <td>Husband</td>\n",
       "      <td>White</td>\n",
       "      <td>Male</td>\n",
       "      <td>0</td>\n",
       "      <td>0</td>\n",
       "      <td>13</td>\n",
       "      <td>United-States</td>\n",
       "      <td>&lt;=50K</td>\n",
       "    </tr>\n",
       "    <tr>\n",
       "      <th>1</th>\n",
       "      <td>38</td>\n",
       "      <td>Private</td>\n",
       "      <td>215646</td>\n",
       "      <td>HS-grad</td>\n",
       "      <td>9</td>\n",
       "      <td>Divorced</td>\n",
       "      <td>Handlers-cleaners</td>\n",
       "      <td>Not-in-family</td>\n",
       "      <td>White</td>\n",
       "      <td>Male</td>\n",
       "      <td>0</td>\n",
       "      <td>0</td>\n",
       "      <td>40</td>\n",
       "      <td>United-States</td>\n",
       "      <td>&lt;=50K</td>\n",
       "    </tr>\n",
       "    <tr>\n",
       "      <th>2</th>\n",
       "      <td>53</td>\n",
       "      <td>Private</td>\n",
       "      <td>234721</td>\n",
       "      <td>11th</td>\n",
       "      <td>7</td>\n",
       "      <td>Married-civ-spouse</td>\n",
       "      <td>Handlers-cleaners</td>\n",
       "      <td>Husband</td>\n",
       "      <td>Black</td>\n",
       "      <td>Male</td>\n",
       "      <td>0</td>\n",
       "      <td>0</td>\n",
       "      <td>40</td>\n",
       "      <td>United-States</td>\n",
       "      <td>&lt;=50K</td>\n",
       "    </tr>\n",
       "    <tr>\n",
       "      <th>3</th>\n",
       "      <td>28</td>\n",
       "      <td>Private</td>\n",
       "      <td>338409</td>\n",
       "      <td>Bachelors</td>\n",
       "      <td>13</td>\n",
       "      <td>Married-civ-spouse</td>\n",
       "      <td>Prof-specialty</td>\n",
       "      <td>Wife</td>\n",
       "      <td>Black</td>\n",
       "      <td>Female</td>\n",
       "      <td>0</td>\n",
       "      <td>0</td>\n",
       "      <td>40</td>\n",
       "      <td>Cuba</td>\n",
       "      <td>&lt;=50K</td>\n",
       "    </tr>\n",
       "    <tr>\n",
       "      <th>4</th>\n",
       "      <td>37</td>\n",
       "      <td>Private</td>\n",
       "      <td>284582</td>\n",
       "      <td>Masters</td>\n",
       "      <td>14</td>\n",
       "      <td>Married-civ-spouse</td>\n",
       "      <td>Exec-managerial</td>\n",
       "      <td>Wife</td>\n",
       "      <td>White</td>\n",
       "      <td>Female</td>\n",
       "      <td>0</td>\n",
       "      <td>0</td>\n",
       "      <td>40</td>\n",
       "      <td>United-States</td>\n",
       "      <td>&lt;=50K</td>\n",
       "    </tr>\n",
       "    <tr>\n",
       "      <th>...</th>\n",
       "      <td>...</td>\n",
       "      <td>...</td>\n",
       "      <td>...</td>\n",
       "      <td>...</td>\n",
       "      <td>...</td>\n",
       "      <td>...</td>\n",
       "      <td>...</td>\n",
       "      <td>...</td>\n",
       "      <td>...</td>\n",
       "      <td>...</td>\n",
       "      <td>...</td>\n",
       "      <td>...</td>\n",
       "      <td>...</td>\n",
       "      <td>...</td>\n",
       "      <td>...</td>\n",
       "    </tr>\n",
       "    <tr>\n",
       "      <th>32555</th>\n",
       "      <td>27</td>\n",
       "      <td>Private</td>\n",
       "      <td>257302</td>\n",
       "      <td>Assoc-acdm</td>\n",
       "      <td>12</td>\n",
       "      <td>Married-civ-spouse</td>\n",
       "      <td>Tech-support</td>\n",
       "      <td>Wife</td>\n",
       "      <td>White</td>\n",
       "      <td>Female</td>\n",
       "      <td>0</td>\n",
       "      <td>0</td>\n",
       "      <td>38</td>\n",
       "      <td>United-States</td>\n",
       "      <td>&lt;=50K</td>\n",
       "    </tr>\n",
       "    <tr>\n",
       "      <th>32556</th>\n",
       "      <td>40</td>\n",
       "      <td>Private</td>\n",
       "      <td>154374</td>\n",
       "      <td>HS-grad</td>\n",
       "      <td>9</td>\n",
       "      <td>Married-civ-spouse</td>\n",
       "      <td>Machine-op-inspct</td>\n",
       "      <td>Husband</td>\n",
       "      <td>White</td>\n",
       "      <td>Male</td>\n",
       "      <td>0</td>\n",
       "      <td>0</td>\n",
       "      <td>40</td>\n",
       "      <td>United-States</td>\n",
       "      <td>&gt;50K</td>\n",
       "    </tr>\n",
       "    <tr>\n",
       "      <th>32557</th>\n",
       "      <td>58</td>\n",
       "      <td>Private</td>\n",
       "      <td>151910</td>\n",
       "      <td>HS-grad</td>\n",
       "      <td>9</td>\n",
       "      <td>Widowed</td>\n",
       "      <td>Adm-clerical</td>\n",
       "      <td>Unmarried</td>\n",
       "      <td>White</td>\n",
       "      <td>Female</td>\n",
       "      <td>0</td>\n",
       "      <td>0</td>\n",
       "      <td>40</td>\n",
       "      <td>United-States</td>\n",
       "      <td>&lt;=50K</td>\n",
       "    </tr>\n",
       "    <tr>\n",
       "      <th>32558</th>\n",
       "      <td>22</td>\n",
       "      <td>Private</td>\n",
       "      <td>201490</td>\n",
       "      <td>HS-grad</td>\n",
       "      <td>9</td>\n",
       "      <td>Never-married</td>\n",
       "      <td>Adm-clerical</td>\n",
       "      <td>Own-child</td>\n",
       "      <td>White</td>\n",
       "      <td>Male</td>\n",
       "      <td>0</td>\n",
       "      <td>0</td>\n",
       "      <td>20</td>\n",
       "      <td>United-States</td>\n",
       "      <td>&lt;=50K</td>\n",
       "    </tr>\n",
       "    <tr>\n",
       "      <th>32559</th>\n",
       "      <td>52</td>\n",
       "      <td>Self-emp-inc</td>\n",
       "      <td>287927</td>\n",
       "      <td>HS-grad</td>\n",
       "      <td>9</td>\n",
       "      <td>Married-civ-spouse</td>\n",
       "      <td>Exec-managerial</td>\n",
       "      <td>Wife</td>\n",
       "      <td>White</td>\n",
       "      <td>Female</td>\n",
       "      <td>15024</td>\n",
       "      <td>0</td>\n",
       "      <td>40</td>\n",
       "      <td>United-States</td>\n",
       "      <td>&gt;50K</td>\n",
       "    </tr>\n",
       "  </tbody>\n",
       "</table>\n",
       "<p>32560 rows × 15 columns</p>\n",
       "</div>"
      ],
      "text/plain": [
       "       39          State-gov   77516    Bachelors   13        Never-married  \\\n",
       "0      50   Self-emp-not-inc   83311    Bachelors   13   Married-civ-spouse   \n",
       "1      38            Private  215646      HS-grad    9             Divorced   \n",
       "2      53            Private  234721         11th    7   Married-civ-spouse   \n",
       "3      28            Private  338409    Bachelors   13   Married-civ-spouse   \n",
       "4      37            Private  284582      Masters   14   Married-civ-spouse   \n",
       "...    ..                ...     ...          ...  ...                  ...   \n",
       "32555  27            Private  257302   Assoc-acdm   12   Married-civ-spouse   \n",
       "32556  40            Private  154374      HS-grad    9   Married-civ-spouse   \n",
       "32557  58            Private  151910      HS-grad    9              Widowed   \n",
       "32558  22            Private  201490      HS-grad    9        Never-married   \n",
       "32559  52       Self-emp-inc  287927      HS-grad    9   Married-civ-spouse   \n",
       "\n",
       "             Adm-clerical   Not-in-family   White     Male   2174   0   40  \\\n",
       "0         Exec-managerial         Husband   White     Male      0   0   13   \n",
       "1       Handlers-cleaners   Not-in-family   White     Male      0   0   40   \n",
       "2       Handlers-cleaners         Husband   Black     Male      0   0   40   \n",
       "3          Prof-specialty            Wife   Black   Female      0   0   40   \n",
       "4         Exec-managerial            Wife   White   Female      0   0   40   \n",
       "...                   ...             ...     ...      ...    ...  ..  ...   \n",
       "32555        Tech-support            Wife   White   Female      0   0   38   \n",
       "32556   Machine-op-inspct         Husband   White     Male      0   0   40   \n",
       "32557        Adm-clerical       Unmarried   White   Female      0   0   40   \n",
       "32558        Adm-clerical       Own-child   White     Male      0   0   20   \n",
       "32559     Exec-managerial            Wife   White   Female  15024   0   40   \n",
       "\n",
       "        United-States   <=50K  \n",
       "0       United-States   <=50K  \n",
       "1       United-States   <=50K  \n",
       "2       United-States   <=50K  \n",
       "3                Cuba   <=50K  \n",
       "4       United-States   <=50K  \n",
       "...               ...     ...  \n",
       "32555   United-States   <=50K  \n",
       "32556   United-States    >50K  \n",
       "32557   United-States   <=50K  \n",
       "32558   United-States   <=50K  \n",
       "32559   United-States    >50K  \n",
       "\n",
       "[32560 rows x 15 columns]"
      ]
     },
     "metadata": {},
     "output_type": "display_data"
    }
   ],
   "source": [
    "income_df = pd.read_csv(\"Income/adult.data\", delimiter=\",\")\n",
    "display(income_df)"
   ]
  },
  {
   "cell_type": "markdown",
   "id": "5459a496",
   "metadata": {},
   "source": [
    "###  One-Hot Encoding \n",
    "\n",
    "While our data looks nice and formatted, we sadly cannot work with categorical labels to perform our model training. To resolve this, we utilize one-hot encoding to transform the set of each possible nominal values from every column into a new column span that treats each label as a 0 or 1. For other columns with numerical values, we simply treat their values the same. Thankfully, numpy comes with a method to do this for us automatically for each of our datasets"
   ]
  },
  {
   "cell_type": "code",
   "execution_count": 61,
   "id": "17ed4bb0",
   "metadata": {
    "scrolled": true
   },
   "outputs": [],
   "source": [
    "bank_encoded = pd.get_dummies(bank_df)\n",
    "bank_encoded = bank_encoded.replace({True: 1, False: 0})\n",
    "\n",
    "mushroom_encoded = pd.get_dummies(mushroom_df)\n",
    "mushroom_encoded = mushroom_encoded.replace({True: 1, False: 0})\n",
    "\n",
    "income_encoded = pd.get_dummies(income_df)\n",
    "income_encoded = income_encoded.replace({True: 1, False: 0})\n"
   ]
  },
  {
   "cell_type": "code",
   "execution_count": 62,
   "id": "8678955e",
   "metadata": {
    "scrolled": true
   },
   "outputs": [
    {
     "data": {
      "text/html": [
       "<div>\n",
       "<style scoped>\n",
       "    .dataframe tbody tr th:only-of-type {\n",
       "        vertical-align: middle;\n",
       "    }\n",
       "\n",
       "    .dataframe tbody tr th {\n",
       "        vertical-align: top;\n",
       "    }\n",
       "\n",
       "    .dataframe thead th {\n",
       "        text-align: right;\n",
       "    }\n",
       "</style>\n",
       "<table border=\"1\" class=\"dataframe\">\n",
       "  <thead>\n",
       "    <tr style=\"text-align: right;\">\n",
       "      <th></th>\n",
       "      <th>age</th>\n",
       "      <th>balance</th>\n",
       "      <th>day</th>\n",
       "      <th>duration</th>\n",
       "      <th>campaign</th>\n",
       "      <th>pdays</th>\n",
       "      <th>previous</th>\n",
       "      <th>job_admin.</th>\n",
       "      <th>job_blue-collar</th>\n",
       "      <th>job_entrepreneur</th>\n",
       "      <th>...</th>\n",
       "      <th>month_may</th>\n",
       "      <th>month_nov</th>\n",
       "      <th>month_oct</th>\n",
       "      <th>month_sep</th>\n",
       "      <th>poutcome_failure</th>\n",
       "      <th>poutcome_other</th>\n",
       "      <th>poutcome_success</th>\n",
       "      <th>poutcome_unknown</th>\n",
       "      <th>y_no</th>\n",
       "      <th>y_yes</th>\n",
       "    </tr>\n",
       "  </thead>\n",
       "  <tbody>\n",
       "    <tr>\n",
       "      <th>0</th>\n",
       "      <td>58</td>\n",
       "      <td>2143</td>\n",
       "      <td>5</td>\n",
       "      <td>261</td>\n",
       "      <td>1</td>\n",
       "      <td>-1</td>\n",
       "      <td>0</td>\n",
       "      <td>0</td>\n",
       "      <td>0</td>\n",
       "      <td>0</td>\n",
       "      <td>...</td>\n",
       "      <td>1</td>\n",
       "      <td>0</td>\n",
       "      <td>0</td>\n",
       "      <td>0</td>\n",
       "      <td>0</td>\n",
       "      <td>0</td>\n",
       "      <td>0</td>\n",
       "      <td>1</td>\n",
       "      <td>1</td>\n",
       "      <td>0</td>\n",
       "    </tr>\n",
       "    <tr>\n",
       "      <th>1</th>\n",
       "      <td>44</td>\n",
       "      <td>29</td>\n",
       "      <td>5</td>\n",
       "      <td>151</td>\n",
       "      <td>1</td>\n",
       "      <td>-1</td>\n",
       "      <td>0</td>\n",
       "      <td>0</td>\n",
       "      <td>0</td>\n",
       "      <td>0</td>\n",
       "      <td>...</td>\n",
       "      <td>1</td>\n",
       "      <td>0</td>\n",
       "      <td>0</td>\n",
       "      <td>0</td>\n",
       "      <td>0</td>\n",
       "      <td>0</td>\n",
       "      <td>0</td>\n",
       "      <td>1</td>\n",
       "      <td>1</td>\n",
       "      <td>0</td>\n",
       "    </tr>\n",
       "    <tr>\n",
       "      <th>2</th>\n",
       "      <td>33</td>\n",
       "      <td>2</td>\n",
       "      <td>5</td>\n",
       "      <td>76</td>\n",
       "      <td>1</td>\n",
       "      <td>-1</td>\n",
       "      <td>0</td>\n",
       "      <td>0</td>\n",
       "      <td>0</td>\n",
       "      <td>1</td>\n",
       "      <td>...</td>\n",
       "      <td>1</td>\n",
       "      <td>0</td>\n",
       "      <td>0</td>\n",
       "      <td>0</td>\n",
       "      <td>0</td>\n",
       "      <td>0</td>\n",
       "      <td>0</td>\n",
       "      <td>1</td>\n",
       "      <td>1</td>\n",
       "      <td>0</td>\n",
       "    </tr>\n",
       "    <tr>\n",
       "      <th>3</th>\n",
       "      <td>47</td>\n",
       "      <td>1506</td>\n",
       "      <td>5</td>\n",
       "      <td>92</td>\n",
       "      <td>1</td>\n",
       "      <td>-1</td>\n",
       "      <td>0</td>\n",
       "      <td>0</td>\n",
       "      <td>1</td>\n",
       "      <td>0</td>\n",
       "      <td>...</td>\n",
       "      <td>1</td>\n",
       "      <td>0</td>\n",
       "      <td>0</td>\n",
       "      <td>0</td>\n",
       "      <td>0</td>\n",
       "      <td>0</td>\n",
       "      <td>0</td>\n",
       "      <td>1</td>\n",
       "      <td>1</td>\n",
       "      <td>0</td>\n",
       "    </tr>\n",
       "    <tr>\n",
       "      <th>4</th>\n",
       "      <td>33</td>\n",
       "      <td>1</td>\n",
       "      <td>5</td>\n",
       "      <td>198</td>\n",
       "      <td>1</td>\n",
       "      <td>-1</td>\n",
       "      <td>0</td>\n",
       "      <td>0</td>\n",
       "      <td>0</td>\n",
       "      <td>0</td>\n",
       "      <td>...</td>\n",
       "      <td>1</td>\n",
       "      <td>0</td>\n",
       "      <td>0</td>\n",
       "      <td>0</td>\n",
       "      <td>0</td>\n",
       "      <td>0</td>\n",
       "      <td>0</td>\n",
       "      <td>1</td>\n",
       "      <td>1</td>\n",
       "      <td>0</td>\n",
       "    </tr>\n",
       "    <tr>\n",
       "      <th>...</th>\n",
       "      <td>...</td>\n",
       "      <td>...</td>\n",
       "      <td>...</td>\n",
       "      <td>...</td>\n",
       "      <td>...</td>\n",
       "      <td>...</td>\n",
       "      <td>...</td>\n",
       "      <td>...</td>\n",
       "      <td>...</td>\n",
       "      <td>...</td>\n",
       "      <td>...</td>\n",
       "      <td>...</td>\n",
       "      <td>...</td>\n",
       "      <td>...</td>\n",
       "      <td>...</td>\n",
       "      <td>...</td>\n",
       "      <td>...</td>\n",
       "      <td>...</td>\n",
       "      <td>...</td>\n",
       "      <td>...</td>\n",
       "      <td>...</td>\n",
       "    </tr>\n",
       "    <tr>\n",
       "      <th>45206</th>\n",
       "      <td>51</td>\n",
       "      <td>825</td>\n",
       "      <td>17</td>\n",
       "      <td>977</td>\n",
       "      <td>3</td>\n",
       "      <td>-1</td>\n",
       "      <td>0</td>\n",
       "      <td>0</td>\n",
       "      <td>0</td>\n",
       "      <td>0</td>\n",
       "      <td>...</td>\n",
       "      <td>0</td>\n",
       "      <td>1</td>\n",
       "      <td>0</td>\n",
       "      <td>0</td>\n",
       "      <td>0</td>\n",
       "      <td>0</td>\n",
       "      <td>0</td>\n",
       "      <td>1</td>\n",
       "      <td>0</td>\n",
       "      <td>1</td>\n",
       "    </tr>\n",
       "    <tr>\n",
       "      <th>45207</th>\n",
       "      <td>71</td>\n",
       "      <td>1729</td>\n",
       "      <td>17</td>\n",
       "      <td>456</td>\n",
       "      <td>2</td>\n",
       "      <td>-1</td>\n",
       "      <td>0</td>\n",
       "      <td>0</td>\n",
       "      <td>0</td>\n",
       "      <td>0</td>\n",
       "      <td>...</td>\n",
       "      <td>0</td>\n",
       "      <td>1</td>\n",
       "      <td>0</td>\n",
       "      <td>0</td>\n",
       "      <td>0</td>\n",
       "      <td>0</td>\n",
       "      <td>0</td>\n",
       "      <td>1</td>\n",
       "      <td>0</td>\n",
       "      <td>1</td>\n",
       "    </tr>\n",
       "    <tr>\n",
       "      <th>45208</th>\n",
       "      <td>72</td>\n",
       "      <td>5715</td>\n",
       "      <td>17</td>\n",
       "      <td>1127</td>\n",
       "      <td>5</td>\n",
       "      <td>184</td>\n",
       "      <td>3</td>\n",
       "      <td>0</td>\n",
       "      <td>0</td>\n",
       "      <td>0</td>\n",
       "      <td>...</td>\n",
       "      <td>0</td>\n",
       "      <td>1</td>\n",
       "      <td>0</td>\n",
       "      <td>0</td>\n",
       "      <td>0</td>\n",
       "      <td>0</td>\n",
       "      <td>1</td>\n",
       "      <td>0</td>\n",
       "      <td>0</td>\n",
       "      <td>1</td>\n",
       "    </tr>\n",
       "    <tr>\n",
       "      <th>45209</th>\n",
       "      <td>57</td>\n",
       "      <td>668</td>\n",
       "      <td>17</td>\n",
       "      <td>508</td>\n",
       "      <td>4</td>\n",
       "      <td>-1</td>\n",
       "      <td>0</td>\n",
       "      <td>0</td>\n",
       "      <td>1</td>\n",
       "      <td>0</td>\n",
       "      <td>...</td>\n",
       "      <td>0</td>\n",
       "      <td>1</td>\n",
       "      <td>0</td>\n",
       "      <td>0</td>\n",
       "      <td>0</td>\n",
       "      <td>0</td>\n",
       "      <td>0</td>\n",
       "      <td>1</td>\n",
       "      <td>1</td>\n",
       "      <td>0</td>\n",
       "    </tr>\n",
       "    <tr>\n",
       "      <th>45210</th>\n",
       "      <td>37</td>\n",
       "      <td>2971</td>\n",
       "      <td>17</td>\n",
       "      <td>361</td>\n",
       "      <td>2</td>\n",
       "      <td>188</td>\n",
       "      <td>11</td>\n",
       "      <td>0</td>\n",
       "      <td>0</td>\n",
       "      <td>1</td>\n",
       "      <td>...</td>\n",
       "      <td>0</td>\n",
       "      <td>1</td>\n",
       "      <td>0</td>\n",
       "      <td>0</td>\n",
       "      <td>0</td>\n",
       "      <td>1</td>\n",
       "      <td>0</td>\n",
       "      <td>0</td>\n",
       "      <td>1</td>\n",
       "      <td>0</td>\n",
       "    </tr>\n",
       "  </tbody>\n",
       "</table>\n",
       "<p>45211 rows × 53 columns</p>\n",
       "</div>"
      ],
      "text/plain": [
       "       age  balance  day  duration  campaign  pdays  previous  job_admin.  \\\n",
       "0       58     2143    5       261         1     -1         0           0   \n",
       "1       44       29    5       151         1     -1         0           0   \n",
       "2       33        2    5        76         1     -1         0           0   \n",
       "3       47     1506    5        92         1     -1         0           0   \n",
       "4       33        1    5       198         1     -1         0           0   \n",
       "...    ...      ...  ...       ...       ...    ...       ...         ...   \n",
       "45206   51      825   17       977         3     -1         0           0   \n",
       "45207   71     1729   17       456         2     -1         0           0   \n",
       "45208   72     5715   17      1127         5    184         3           0   \n",
       "45209   57      668   17       508         4     -1         0           0   \n",
       "45210   37     2971   17       361         2    188        11           0   \n",
       "\n",
       "       job_blue-collar  job_entrepreneur  ...  month_may  month_nov  \\\n",
       "0                    0                 0  ...          1          0   \n",
       "1                    0                 0  ...          1          0   \n",
       "2                    0                 1  ...          1          0   \n",
       "3                    1                 0  ...          1          0   \n",
       "4                    0                 0  ...          1          0   \n",
       "...                ...               ...  ...        ...        ...   \n",
       "45206                0                 0  ...          0          1   \n",
       "45207                0                 0  ...          0          1   \n",
       "45208                0                 0  ...          0          1   \n",
       "45209                1                 0  ...          0          1   \n",
       "45210                0                 1  ...          0          1   \n",
       "\n",
       "       month_oct  month_sep  poutcome_failure  poutcome_other  \\\n",
       "0              0          0                 0               0   \n",
       "1              0          0                 0               0   \n",
       "2              0          0                 0               0   \n",
       "3              0          0                 0               0   \n",
       "4              0          0                 0               0   \n",
       "...          ...        ...               ...             ...   \n",
       "45206          0          0                 0               0   \n",
       "45207          0          0                 0               0   \n",
       "45208          0          0                 0               0   \n",
       "45209          0          0                 0               0   \n",
       "45210          0          0                 0               1   \n",
       "\n",
       "       poutcome_success  poutcome_unknown  y_no  y_yes  \n",
       "0                     0                 1     1      0  \n",
       "1                     0                 1     1      0  \n",
       "2                     0                 1     1      0  \n",
       "3                     0                 1     1      0  \n",
       "4                     0                 1     1      0  \n",
       "...                 ...               ...   ...    ...  \n",
       "45206                 0                 1     0      1  \n",
       "45207                 0                 1     0      1  \n",
       "45208                 1                 0     0      1  \n",
       "45209                 0                 1     1      0  \n",
       "45210                 0                 0     1      0  \n",
       "\n",
       "[45211 rows x 53 columns]"
      ]
     },
     "metadata": {},
     "output_type": "display_data"
    }
   ],
   "source": [
    "display(bank_encoded)"
   ]
  },
  {
   "cell_type": "code",
   "execution_count": 63,
   "id": "eb09e6b2",
   "metadata": {
    "scrolled": false
   },
   "outputs": [
    {
     "data": {
      "text/html": [
       "<div>\n",
       "<style scoped>\n",
       "    .dataframe tbody tr th:only-of-type {\n",
       "        vertical-align: middle;\n",
       "    }\n",
       "\n",
       "    .dataframe tbody tr th {\n",
       "        vertical-align: top;\n",
       "    }\n",
       "\n",
       "    .dataframe thead th {\n",
       "        text-align: right;\n",
       "    }\n",
       "</style>\n",
       "<table border=\"1\" class=\"dataframe\">\n",
       "  <thead>\n",
       "    <tr style=\"text-align: right;\">\n",
       "      <th></th>\n",
       "      <th>p_e</th>\n",
       "      <th>p_p</th>\n",
       "      <th>x_b</th>\n",
       "      <th>x_c</th>\n",
       "      <th>x_f</th>\n",
       "      <th>x_k</th>\n",
       "      <th>x_s</th>\n",
       "      <th>x_x</th>\n",
       "      <th>s_f</th>\n",
       "      <th>s_g</th>\n",
       "      <th>...</th>\n",
       "      <th>s.3_s</th>\n",
       "      <th>s.3_v</th>\n",
       "      <th>s.3_y</th>\n",
       "      <th>u_d</th>\n",
       "      <th>u_g</th>\n",
       "      <th>u_l</th>\n",
       "      <th>u_m</th>\n",
       "      <th>u_p</th>\n",
       "      <th>u_u</th>\n",
       "      <th>u_w</th>\n",
       "    </tr>\n",
       "  </thead>\n",
       "  <tbody>\n",
       "    <tr>\n",
       "      <th>0</th>\n",
       "      <td>1</td>\n",
       "      <td>0</td>\n",
       "      <td>0</td>\n",
       "      <td>0</td>\n",
       "      <td>0</td>\n",
       "      <td>0</td>\n",
       "      <td>0</td>\n",
       "      <td>1</td>\n",
       "      <td>0</td>\n",
       "      <td>0</td>\n",
       "      <td>...</td>\n",
       "      <td>0</td>\n",
       "      <td>0</td>\n",
       "      <td>0</td>\n",
       "      <td>0</td>\n",
       "      <td>1</td>\n",
       "      <td>0</td>\n",
       "      <td>0</td>\n",
       "      <td>0</td>\n",
       "      <td>0</td>\n",
       "      <td>0</td>\n",
       "    </tr>\n",
       "    <tr>\n",
       "      <th>1</th>\n",
       "      <td>1</td>\n",
       "      <td>0</td>\n",
       "      <td>1</td>\n",
       "      <td>0</td>\n",
       "      <td>0</td>\n",
       "      <td>0</td>\n",
       "      <td>0</td>\n",
       "      <td>0</td>\n",
       "      <td>0</td>\n",
       "      <td>0</td>\n",
       "      <td>...</td>\n",
       "      <td>0</td>\n",
       "      <td>0</td>\n",
       "      <td>0</td>\n",
       "      <td>0</td>\n",
       "      <td>0</td>\n",
       "      <td>0</td>\n",
       "      <td>1</td>\n",
       "      <td>0</td>\n",
       "      <td>0</td>\n",
       "      <td>0</td>\n",
       "    </tr>\n",
       "    <tr>\n",
       "      <th>2</th>\n",
       "      <td>0</td>\n",
       "      <td>1</td>\n",
       "      <td>0</td>\n",
       "      <td>0</td>\n",
       "      <td>0</td>\n",
       "      <td>0</td>\n",
       "      <td>0</td>\n",
       "      <td>1</td>\n",
       "      <td>0</td>\n",
       "      <td>0</td>\n",
       "      <td>...</td>\n",
       "      <td>1</td>\n",
       "      <td>0</td>\n",
       "      <td>0</td>\n",
       "      <td>0</td>\n",
       "      <td>0</td>\n",
       "      <td>0</td>\n",
       "      <td>0</td>\n",
       "      <td>0</td>\n",
       "      <td>1</td>\n",
       "      <td>0</td>\n",
       "    </tr>\n",
       "    <tr>\n",
       "      <th>3</th>\n",
       "      <td>1</td>\n",
       "      <td>0</td>\n",
       "      <td>0</td>\n",
       "      <td>0</td>\n",
       "      <td>0</td>\n",
       "      <td>0</td>\n",
       "      <td>0</td>\n",
       "      <td>1</td>\n",
       "      <td>0</td>\n",
       "      <td>0</td>\n",
       "      <td>...</td>\n",
       "      <td>0</td>\n",
       "      <td>0</td>\n",
       "      <td>0</td>\n",
       "      <td>0</td>\n",
       "      <td>1</td>\n",
       "      <td>0</td>\n",
       "      <td>0</td>\n",
       "      <td>0</td>\n",
       "      <td>0</td>\n",
       "      <td>0</td>\n",
       "    </tr>\n",
       "    <tr>\n",
       "      <th>4</th>\n",
       "      <td>1</td>\n",
       "      <td>0</td>\n",
       "      <td>0</td>\n",
       "      <td>0</td>\n",
       "      <td>0</td>\n",
       "      <td>0</td>\n",
       "      <td>0</td>\n",
       "      <td>1</td>\n",
       "      <td>0</td>\n",
       "      <td>0</td>\n",
       "      <td>...</td>\n",
       "      <td>0</td>\n",
       "      <td>0</td>\n",
       "      <td>0</td>\n",
       "      <td>0</td>\n",
       "      <td>1</td>\n",
       "      <td>0</td>\n",
       "      <td>0</td>\n",
       "      <td>0</td>\n",
       "      <td>0</td>\n",
       "      <td>0</td>\n",
       "    </tr>\n",
       "    <tr>\n",
       "      <th>...</th>\n",
       "      <td>...</td>\n",
       "      <td>...</td>\n",
       "      <td>...</td>\n",
       "      <td>...</td>\n",
       "      <td>...</td>\n",
       "      <td>...</td>\n",
       "      <td>...</td>\n",
       "      <td>...</td>\n",
       "      <td>...</td>\n",
       "      <td>...</td>\n",
       "      <td>...</td>\n",
       "      <td>...</td>\n",
       "      <td>...</td>\n",
       "      <td>...</td>\n",
       "      <td>...</td>\n",
       "      <td>...</td>\n",
       "      <td>...</td>\n",
       "      <td>...</td>\n",
       "      <td>...</td>\n",
       "      <td>...</td>\n",
       "      <td>...</td>\n",
       "    </tr>\n",
       "    <tr>\n",
       "      <th>8118</th>\n",
       "      <td>1</td>\n",
       "      <td>0</td>\n",
       "      <td>0</td>\n",
       "      <td>0</td>\n",
       "      <td>0</td>\n",
       "      <td>1</td>\n",
       "      <td>0</td>\n",
       "      <td>0</td>\n",
       "      <td>0</td>\n",
       "      <td>0</td>\n",
       "      <td>...</td>\n",
       "      <td>0</td>\n",
       "      <td>0</td>\n",
       "      <td>0</td>\n",
       "      <td>0</td>\n",
       "      <td>0</td>\n",
       "      <td>1</td>\n",
       "      <td>0</td>\n",
       "      <td>0</td>\n",
       "      <td>0</td>\n",
       "      <td>0</td>\n",
       "    </tr>\n",
       "    <tr>\n",
       "      <th>8119</th>\n",
       "      <td>1</td>\n",
       "      <td>0</td>\n",
       "      <td>0</td>\n",
       "      <td>0</td>\n",
       "      <td>0</td>\n",
       "      <td>0</td>\n",
       "      <td>0</td>\n",
       "      <td>1</td>\n",
       "      <td>0</td>\n",
       "      <td>0</td>\n",
       "      <td>...</td>\n",
       "      <td>0</td>\n",
       "      <td>1</td>\n",
       "      <td>0</td>\n",
       "      <td>0</td>\n",
       "      <td>0</td>\n",
       "      <td>1</td>\n",
       "      <td>0</td>\n",
       "      <td>0</td>\n",
       "      <td>0</td>\n",
       "      <td>0</td>\n",
       "    </tr>\n",
       "    <tr>\n",
       "      <th>8120</th>\n",
       "      <td>1</td>\n",
       "      <td>0</td>\n",
       "      <td>0</td>\n",
       "      <td>0</td>\n",
       "      <td>1</td>\n",
       "      <td>0</td>\n",
       "      <td>0</td>\n",
       "      <td>0</td>\n",
       "      <td>0</td>\n",
       "      <td>0</td>\n",
       "      <td>...</td>\n",
       "      <td>0</td>\n",
       "      <td>0</td>\n",
       "      <td>0</td>\n",
       "      <td>0</td>\n",
       "      <td>0</td>\n",
       "      <td>1</td>\n",
       "      <td>0</td>\n",
       "      <td>0</td>\n",
       "      <td>0</td>\n",
       "      <td>0</td>\n",
       "    </tr>\n",
       "    <tr>\n",
       "      <th>8121</th>\n",
       "      <td>0</td>\n",
       "      <td>1</td>\n",
       "      <td>0</td>\n",
       "      <td>0</td>\n",
       "      <td>0</td>\n",
       "      <td>1</td>\n",
       "      <td>0</td>\n",
       "      <td>0</td>\n",
       "      <td>0</td>\n",
       "      <td>0</td>\n",
       "      <td>...</td>\n",
       "      <td>0</td>\n",
       "      <td>1</td>\n",
       "      <td>0</td>\n",
       "      <td>0</td>\n",
       "      <td>0</td>\n",
       "      <td>1</td>\n",
       "      <td>0</td>\n",
       "      <td>0</td>\n",
       "      <td>0</td>\n",
       "      <td>0</td>\n",
       "    </tr>\n",
       "    <tr>\n",
       "      <th>8122</th>\n",
       "      <td>1</td>\n",
       "      <td>0</td>\n",
       "      <td>0</td>\n",
       "      <td>0</td>\n",
       "      <td>0</td>\n",
       "      <td>0</td>\n",
       "      <td>0</td>\n",
       "      <td>1</td>\n",
       "      <td>0</td>\n",
       "      <td>0</td>\n",
       "      <td>...</td>\n",
       "      <td>0</td>\n",
       "      <td>0</td>\n",
       "      <td>0</td>\n",
       "      <td>0</td>\n",
       "      <td>0</td>\n",
       "      <td>1</td>\n",
       "      <td>0</td>\n",
       "      <td>0</td>\n",
       "      <td>0</td>\n",
       "      <td>0</td>\n",
       "    </tr>\n",
       "  </tbody>\n",
       "</table>\n",
       "<p>8123 rows × 119 columns</p>\n",
       "</div>"
      ],
      "text/plain": [
       "      p_e  p_p  x_b  x_c  x_f  x_k  x_s  x_x  s_f  s_g  ...  s.3_s  s.3_v  \\\n",
       "0       1    0    0    0    0    0    0    1    0    0  ...      0      0   \n",
       "1       1    0    1    0    0    0    0    0    0    0  ...      0      0   \n",
       "2       0    1    0    0    0    0    0    1    0    0  ...      1      0   \n",
       "3       1    0    0    0    0    0    0    1    0    0  ...      0      0   \n",
       "4       1    0    0    0    0    0    0    1    0    0  ...      0      0   \n",
       "...   ...  ...  ...  ...  ...  ...  ...  ...  ...  ...  ...    ...    ...   \n",
       "8118    1    0    0    0    0    1    0    0    0    0  ...      0      0   \n",
       "8119    1    0    0    0    0    0    0    1    0    0  ...      0      1   \n",
       "8120    1    0    0    0    1    0    0    0    0    0  ...      0      0   \n",
       "8121    0    1    0    0    0    1    0    0    0    0  ...      0      1   \n",
       "8122    1    0    0    0    0    0    0    1    0    0  ...      0      0   \n",
       "\n",
       "      s.3_y  u_d  u_g  u_l  u_m  u_p  u_u  u_w  \n",
       "0         0    0    1    0    0    0    0    0  \n",
       "1         0    0    0    0    1    0    0    0  \n",
       "2         0    0    0    0    0    0    1    0  \n",
       "3         0    0    1    0    0    0    0    0  \n",
       "4         0    0    1    0    0    0    0    0  \n",
       "...     ...  ...  ...  ...  ...  ...  ...  ...  \n",
       "8118      0    0    0    1    0    0    0    0  \n",
       "8119      0    0    0    1    0    0    0    0  \n",
       "8120      0    0    0    1    0    0    0    0  \n",
       "8121      0    0    0    1    0    0    0    0  \n",
       "8122      0    0    0    1    0    0    0    0  \n",
       "\n",
       "[8123 rows x 119 columns]"
      ]
     },
     "metadata": {},
     "output_type": "display_data"
    }
   ],
   "source": [
    "display(mushroom_encoded)"
   ]
  },
  {
   "cell_type": "code",
   "execution_count": 64,
   "id": "1cd52f47",
   "metadata": {
    "scrolled": false
   },
   "outputs": [
    {
     "data": {
      "text/html": [
       "<div>\n",
       "<style scoped>\n",
       "    .dataframe tbody tr th:only-of-type {\n",
       "        vertical-align: middle;\n",
       "    }\n",
       "\n",
       "    .dataframe tbody tr th {\n",
       "        vertical-align: top;\n",
       "    }\n",
       "\n",
       "    .dataframe thead th {\n",
       "        text-align: right;\n",
       "    }\n",
       "</style>\n",
       "<table border=\"1\" class=\"dataframe\">\n",
       "  <thead>\n",
       "    <tr style=\"text-align: right;\">\n",
       "      <th></th>\n",
       "      <th>39</th>\n",
       "      <th>77516</th>\n",
       "      <th>13</th>\n",
       "      <th>2174</th>\n",
       "      <th>0</th>\n",
       "      <th>40</th>\n",
       "      <th>State-gov_ ?</th>\n",
       "      <th>State-gov_ Federal-gov</th>\n",
       "      <th>State-gov_ Local-gov</th>\n",
       "      <th>State-gov_ Never-worked</th>\n",
       "      <th>...</th>\n",
       "      <th>United-States_ Scotland</th>\n",
       "      <th>United-States_ South</th>\n",
       "      <th>United-States_ Taiwan</th>\n",
       "      <th>United-States_ Thailand</th>\n",
       "      <th>United-States_ Trinadad&amp;Tobago</th>\n",
       "      <th>United-States_ United-States</th>\n",
       "      <th>United-States_ Vietnam</th>\n",
       "      <th>United-States_ Yugoslavia</th>\n",
       "      <th>&lt;=50K_ &lt;=50K</th>\n",
       "      <th>&lt;=50K_ &gt;50K</th>\n",
       "    </tr>\n",
       "  </thead>\n",
       "  <tbody>\n",
       "    <tr>\n",
       "      <th>0</th>\n",
       "      <td>50</td>\n",
       "      <td>83311</td>\n",
       "      <td>13</td>\n",
       "      <td>0</td>\n",
       "      <td>0</td>\n",
       "      <td>13</td>\n",
       "      <td>0</td>\n",
       "      <td>0</td>\n",
       "      <td>0</td>\n",
       "      <td>0</td>\n",
       "      <td>...</td>\n",
       "      <td>0</td>\n",
       "      <td>0</td>\n",
       "      <td>0</td>\n",
       "      <td>0</td>\n",
       "      <td>0</td>\n",
       "      <td>1</td>\n",
       "      <td>0</td>\n",
       "      <td>0</td>\n",
       "      <td>1</td>\n",
       "      <td>0</td>\n",
       "    </tr>\n",
       "    <tr>\n",
       "      <th>1</th>\n",
       "      <td>38</td>\n",
       "      <td>215646</td>\n",
       "      <td>9</td>\n",
       "      <td>0</td>\n",
       "      <td>0</td>\n",
       "      <td>40</td>\n",
       "      <td>0</td>\n",
       "      <td>0</td>\n",
       "      <td>0</td>\n",
       "      <td>0</td>\n",
       "      <td>...</td>\n",
       "      <td>0</td>\n",
       "      <td>0</td>\n",
       "      <td>0</td>\n",
       "      <td>0</td>\n",
       "      <td>0</td>\n",
       "      <td>1</td>\n",
       "      <td>0</td>\n",
       "      <td>0</td>\n",
       "      <td>1</td>\n",
       "      <td>0</td>\n",
       "    </tr>\n",
       "    <tr>\n",
       "      <th>2</th>\n",
       "      <td>53</td>\n",
       "      <td>234721</td>\n",
       "      <td>7</td>\n",
       "      <td>0</td>\n",
       "      <td>0</td>\n",
       "      <td>40</td>\n",
       "      <td>0</td>\n",
       "      <td>0</td>\n",
       "      <td>0</td>\n",
       "      <td>0</td>\n",
       "      <td>...</td>\n",
       "      <td>0</td>\n",
       "      <td>0</td>\n",
       "      <td>0</td>\n",
       "      <td>0</td>\n",
       "      <td>0</td>\n",
       "      <td>1</td>\n",
       "      <td>0</td>\n",
       "      <td>0</td>\n",
       "      <td>1</td>\n",
       "      <td>0</td>\n",
       "    </tr>\n",
       "    <tr>\n",
       "      <th>3</th>\n",
       "      <td>28</td>\n",
       "      <td>338409</td>\n",
       "      <td>13</td>\n",
       "      <td>0</td>\n",
       "      <td>0</td>\n",
       "      <td>40</td>\n",
       "      <td>0</td>\n",
       "      <td>0</td>\n",
       "      <td>0</td>\n",
       "      <td>0</td>\n",
       "      <td>...</td>\n",
       "      <td>0</td>\n",
       "      <td>0</td>\n",
       "      <td>0</td>\n",
       "      <td>0</td>\n",
       "      <td>0</td>\n",
       "      <td>0</td>\n",
       "      <td>0</td>\n",
       "      <td>0</td>\n",
       "      <td>1</td>\n",
       "      <td>0</td>\n",
       "    </tr>\n",
       "    <tr>\n",
       "      <th>4</th>\n",
       "      <td>37</td>\n",
       "      <td>284582</td>\n",
       "      <td>14</td>\n",
       "      <td>0</td>\n",
       "      <td>0</td>\n",
       "      <td>40</td>\n",
       "      <td>0</td>\n",
       "      <td>0</td>\n",
       "      <td>0</td>\n",
       "      <td>0</td>\n",
       "      <td>...</td>\n",
       "      <td>0</td>\n",
       "      <td>0</td>\n",
       "      <td>0</td>\n",
       "      <td>0</td>\n",
       "      <td>0</td>\n",
       "      <td>1</td>\n",
       "      <td>0</td>\n",
       "      <td>0</td>\n",
       "      <td>1</td>\n",
       "      <td>0</td>\n",
       "    </tr>\n",
       "    <tr>\n",
       "      <th>...</th>\n",
       "      <td>...</td>\n",
       "      <td>...</td>\n",
       "      <td>...</td>\n",
       "      <td>...</td>\n",
       "      <td>...</td>\n",
       "      <td>...</td>\n",
       "      <td>...</td>\n",
       "      <td>...</td>\n",
       "      <td>...</td>\n",
       "      <td>...</td>\n",
       "      <td>...</td>\n",
       "      <td>...</td>\n",
       "      <td>...</td>\n",
       "      <td>...</td>\n",
       "      <td>...</td>\n",
       "      <td>...</td>\n",
       "      <td>...</td>\n",
       "      <td>...</td>\n",
       "      <td>...</td>\n",
       "      <td>...</td>\n",
       "      <td>...</td>\n",
       "    </tr>\n",
       "    <tr>\n",
       "      <th>32555</th>\n",
       "      <td>27</td>\n",
       "      <td>257302</td>\n",
       "      <td>12</td>\n",
       "      <td>0</td>\n",
       "      <td>0</td>\n",
       "      <td>38</td>\n",
       "      <td>0</td>\n",
       "      <td>0</td>\n",
       "      <td>0</td>\n",
       "      <td>0</td>\n",
       "      <td>...</td>\n",
       "      <td>0</td>\n",
       "      <td>0</td>\n",
       "      <td>0</td>\n",
       "      <td>0</td>\n",
       "      <td>0</td>\n",
       "      <td>1</td>\n",
       "      <td>0</td>\n",
       "      <td>0</td>\n",
       "      <td>1</td>\n",
       "      <td>0</td>\n",
       "    </tr>\n",
       "    <tr>\n",
       "      <th>32556</th>\n",
       "      <td>40</td>\n",
       "      <td>154374</td>\n",
       "      <td>9</td>\n",
       "      <td>0</td>\n",
       "      <td>0</td>\n",
       "      <td>40</td>\n",
       "      <td>0</td>\n",
       "      <td>0</td>\n",
       "      <td>0</td>\n",
       "      <td>0</td>\n",
       "      <td>...</td>\n",
       "      <td>0</td>\n",
       "      <td>0</td>\n",
       "      <td>0</td>\n",
       "      <td>0</td>\n",
       "      <td>0</td>\n",
       "      <td>1</td>\n",
       "      <td>0</td>\n",
       "      <td>0</td>\n",
       "      <td>0</td>\n",
       "      <td>1</td>\n",
       "    </tr>\n",
       "    <tr>\n",
       "      <th>32557</th>\n",
       "      <td>58</td>\n",
       "      <td>151910</td>\n",
       "      <td>9</td>\n",
       "      <td>0</td>\n",
       "      <td>0</td>\n",
       "      <td>40</td>\n",
       "      <td>0</td>\n",
       "      <td>0</td>\n",
       "      <td>0</td>\n",
       "      <td>0</td>\n",
       "      <td>...</td>\n",
       "      <td>0</td>\n",
       "      <td>0</td>\n",
       "      <td>0</td>\n",
       "      <td>0</td>\n",
       "      <td>0</td>\n",
       "      <td>1</td>\n",
       "      <td>0</td>\n",
       "      <td>0</td>\n",
       "      <td>1</td>\n",
       "      <td>0</td>\n",
       "    </tr>\n",
       "    <tr>\n",
       "      <th>32558</th>\n",
       "      <td>22</td>\n",
       "      <td>201490</td>\n",
       "      <td>9</td>\n",
       "      <td>0</td>\n",
       "      <td>0</td>\n",
       "      <td>20</td>\n",
       "      <td>0</td>\n",
       "      <td>0</td>\n",
       "      <td>0</td>\n",
       "      <td>0</td>\n",
       "      <td>...</td>\n",
       "      <td>0</td>\n",
       "      <td>0</td>\n",
       "      <td>0</td>\n",
       "      <td>0</td>\n",
       "      <td>0</td>\n",
       "      <td>1</td>\n",
       "      <td>0</td>\n",
       "      <td>0</td>\n",
       "      <td>1</td>\n",
       "      <td>0</td>\n",
       "    </tr>\n",
       "    <tr>\n",
       "      <th>32559</th>\n",
       "      <td>52</td>\n",
       "      <td>287927</td>\n",
       "      <td>9</td>\n",
       "      <td>15024</td>\n",
       "      <td>0</td>\n",
       "      <td>40</td>\n",
       "      <td>0</td>\n",
       "      <td>0</td>\n",
       "      <td>0</td>\n",
       "      <td>0</td>\n",
       "      <td>...</td>\n",
       "      <td>0</td>\n",
       "      <td>0</td>\n",
       "      <td>0</td>\n",
       "      <td>0</td>\n",
       "      <td>0</td>\n",
       "      <td>1</td>\n",
       "      <td>0</td>\n",
       "      <td>0</td>\n",
       "      <td>0</td>\n",
       "      <td>1</td>\n",
       "    </tr>\n",
       "  </tbody>\n",
       "</table>\n",
       "<p>32560 rows × 110 columns</p>\n",
       "</div>"
      ],
      "text/plain": [
       "       39   77516   13   2174   0   40   State-gov_ ?  \\\n",
       "0      50   83311   13      0   0   13              0   \n",
       "1      38  215646    9      0   0   40              0   \n",
       "2      53  234721    7      0   0   40              0   \n",
       "3      28  338409   13      0   0   40              0   \n",
       "4      37  284582   14      0   0   40              0   \n",
       "...    ..     ...  ...    ...  ..  ...            ...   \n",
       "32555  27  257302   12      0   0   38              0   \n",
       "32556  40  154374    9      0   0   40              0   \n",
       "32557  58  151910    9      0   0   40              0   \n",
       "32558  22  201490    9      0   0   20              0   \n",
       "32559  52  287927    9  15024   0   40              0   \n",
       "\n",
       "        State-gov_ Federal-gov   State-gov_ Local-gov  \\\n",
       "0                            0                      0   \n",
       "1                            0                      0   \n",
       "2                            0                      0   \n",
       "3                            0                      0   \n",
       "4                            0                      0   \n",
       "...                        ...                    ...   \n",
       "32555                        0                      0   \n",
       "32556                        0                      0   \n",
       "32557                        0                      0   \n",
       "32558                        0                      0   \n",
       "32559                        0                      0   \n",
       "\n",
       "        State-gov_ Never-worked  ...   United-States_ Scotland  \\\n",
       "0                             0  ...                         0   \n",
       "1                             0  ...                         0   \n",
       "2                             0  ...                         0   \n",
       "3                             0  ...                         0   \n",
       "4                             0  ...                         0   \n",
       "...                         ...  ...                       ...   \n",
       "32555                         0  ...                         0   \n",
       "32556                         0  ...                         0   \n",
       "32557                         0  ...                         0   \n",
       "32558                         0  ...                         0   \n",
       "32559                         0  ...                         0   \n",
       "\n",
       "        United-States_ South   United-States_ Taiwan  \\\n",
       "0                          0                       0   \n",
       "1                          0                       0   \n",
       "2                          0                       0   \n",
       "3                          0                       0   \n",
       "4                          0                       0   \n",
       "...                      ...                     ...   \n",
       "32555                      0                       0   \n",
       "32556                      0                       0   \n",
       "32557                      0                       0   \n",
       "32558                      0                       0   \n",
       "32559                      0                       0   \n",
       "\n",
       "        United-States_ Thailand   United-States_ Trinadad&Tobago  \\\n",
       "0                             0                                0   \n",
       "1                             0                                0   \n",
       "2                             0                                0   \n",
       "3                             0                                0   \n",
       "4                             0                                0   \n",
       "...                         ...                              ...   \n",
       "32555                         0                                0   \n",
       "32556                         0                                0   \n",
       "32557                         0                                0   \n",
       "32558                         0                                0   \n",
       "32559                         0                                0   \n",
       "\n",
       "        United-States_ United-States   United-States_ Vietnam  \\\n",
       "0                                  1                        0   \n",
       "1                                  1                        0   \n",
       "2                                  1                        0   \n",
       "3                                  0                        0   \n",
       "4                                  1                        0   \n",
       "...                              ...                      ...   \n",
       "32555                              1                        0   \n",
       "32556                              1                        0   \n",
       "32557                              1                        0   \n",
       "32558                              1                        0   \n",
       "32559                              1                        0   \n",
       "\n",
       "        United-States_ Yugoslavia   <=50K_ <=50K   <=50K_ >50K  \n",
       "0                               0              1             0  \n",
       "1                               0              1             0  \n",
       "2                               0              1             0  \n",
       "3                               0              1             0  \n",
       "4                               0              1             0  \n",
       "...                           ...            ...           ...  \n",
       "32555                           0              1             0  \n",
       "32556                           0              0             1  \n",
       "32557                           0              1             0  \n",
       "32558                           0              1             0  \n",
       "32559                           0              0             1  \n",
       "\n",
       "[32560 rows x 110 columns]"
      ]
     },
     "metadata": {},
     "output_type": "display_data"
    }
   ],
   "source": [
    "display(income_encoded)"
   ]
  },
  {
   "cell_type": "markdown",
   "id": "e11812f5",
   "metadata": {},
   "source": [
    "### Converting to Matrices\n",
    "Before we rush ahead, we need to convert each dataframe into a form that we can easily work with so we can utilize complex mathematical operations. We'll extract each value in the dataframes and transfer them over to a numpy array"
   ]
  },
  {
   "cell_type": "code",
   "execution_count": 65,
   "id": "0b3929cb",
   "metadata": {
    "scrolled": true
   },
   "outputs": [
    {
     "name": "stdout",
     "output_type": "stream",
     "text": [
      "(45211, 53)\n",
      "(8123, 119)\n",
      "(32560, 110)\n"
     ]
    }
   ],
   "source": [
    "bank = bank_encoded.values\n",
    "mushroom = mushroom_encoded.values\n",
    "income = income_encoded.values\n",
    "\n",
    "# Verifying that the shape matches their dataframe shape\n",
    "print(bank.shape)\n",
    "print(mushroom.shape)\n",
    "print(income.shape)"
   ]
  },
  {
   "cell_type": "markdown",
   "id": "5dc85c31",
   "metadata": {},
   "source": [
    "## Cleaning Up the Data\n",
    "With the data mostly done, we'll focus on setting up the classifiers. We also have to address the fact that we can't keep the columns that classify our observations since they are not features. Since we already have each table in matrix form, we can easily remove and extract our labels for each data set! Additionally, we must shuffle the data."
   ]
  },
  {
   "cell_type": "code",
   "execution_count": 66,
   "id": "cafd652a",
   "metadata": {
    "scrolled": true
   },
   "outputs": [],
   "source": [
    "from sklearn.model_selection import train_test_split\n",
    "from sklearn.metrics import accuracy_score\n",
    "from sklearn.preprocessing import StandardScaler"
   ]
  },
  {
   "cell_type": "code",
   "execution_count": 67,
   "id": "741e6b44",
   "metadata": {
    "scrolled": true
   },
   "outputs": [
    {
     "name": "stdout",
     "output_type": "stream",
     "text": [
      "Bank Shape: (45211, 51)\n",
      "Mushroom Shape: (8123, 117)\n",
      "Income Shape: (32560, 108)\n",
      "{0.0: 4208, 1.0: 3915}\n"
     ]
    }
   ],
   "source": [
    "\n",
    "# Extract the corresponding column for the labels, then remove the last two columns \n",
    "bank_labels = (bank[:,-1]).reshape(-1,1).astype(float)\n",
    "bank = bank[:,: -2]\n",
    "\n",
    "\n",
    "mushroom_labels = (mushroom[:,1]).reshape(-1,1).astype(float)\n",
    "mushroom = mushroom[:, 2:]\n",
    "\n",
    "income_labels = (income[:,-1]).reshape(-1,1).astype(float)\n",
    "income = income[:,:-2]\n",
    "\n",
    "print('Bank Shape: {}'.format(bank.shape))\n",
    "print('Mushroom Shape: {}'.format(mushroom.shape))\n",
    "print('Income Shape: {}'.format(income.shape))\n",
    "\n",
    "# print(bank_labels.shape)\n",
    "# print(mushroom_labels.shape)\n",
    "# print(income_labels.shape)\n",
    "\n",
    "\n",
    "# Convert every false (0) to -1 in our labels arrays\n",
    "unique, counts = np.unique(mushroom_labels, return_counts=True)\n",
    "count_dict = dict(zip(unique, counts))\n",
    "print(count_dict) # {0: 7, 1: 4, 2: 1, 3: 2, 4: 1}\n",
    "\n",
    "bank_labels[bank_labels == 0] = -1\n",
    "mushroom_labels[mushroom_labels == 0] = -1\n",
    "income_labels[income_labels == 0] = -1\n",
    "\n",
    "\n",
    "# print(bank_labels) \n",
    "# print(mushroom_labels) \n",
    "# print(income_labels)\n",
    "\n",
    "\n",
    "# Stack the labels with their original tables to shuffle \n",
    "bank = np.hstack((bank, bank_labels)) \n",
    "mushroom = np.hstack((mushroom, mushroom_labels)) \n",
    "income = np.hstack((income, income_labels)) \n",
    "\n",
    "np.random.seed(1)          \n",
    "np.random.shuffle(bank) \n",
    "np.random.shuffle(mushroom) \n",
    "np.random.shuffle(income) \n",
    "\n"
   ]
  },
  {
   "cell_type": "code",
   "execution_count": 68,
   "id": "81fa5636",
   "metadata": {
    "scrolled": true
   },
   "outputs": [],
   "source": [
    "# For class weights \n",
    "bank_unique, bank_counts = np.unique(bank_labels, return_counts=True)\n",
    "bank_count_dict = dict(zip(bank_unique, bank_counts))\n",
    "\n",
    "income_unique, income_counts = np.unique(income_labels, return_counts=True)\n",
    "income_count_dict = dict(zip(income_unique, income_counts))\n",
    "\n",
    "mushroom_unique, mushroom_counts = np.unique(mushroom_labels, return_counts=True)\n",
    "mushroom_count_dict = dict(zip(mushroom_unique, mushroom_counts))\n",
    "\n",
    "\n",
    "\n",
    "# Extract features and labels for calculating proportions of each class\n",
    "bank_x = bank[:,:-1]\n",
    "bank_y = bank[:,-1]\n",
    "\n",
    "income_x = income[:,:-1]\n",
    "income_y = income[:,-1]\n",
    "\n",
    "mushroom_x = mushroom[:,:-1]\n",
    "mushroom_y = mushroom[:,-1]\n",
    "\n",
    "\n",
    "# Create a dict of counts of each class for each dataset\n",
    "bank_weight_1_neg = len(bank_x)/bank_count_dict.get(-1)\n",
    "bank_weight_1_pos = len(bank_x)/bank_count_dict.get(1)\n",
    "bank_class_weights = {-1: bank_weight_1_neg , 1: bank_weight_1_pos }  \n",
    "\n",
    "income_weight_1_neg = len(income_x)/income_count_dict.get(-1)\n",
    "income_weight_1_pos = len(income_x)/income_count_dict.get(1)\n",
    "income_class_weights = {-1: income_weight_1_neg , 1: income_weight_1_pos } \n",
    "\n",
    "\n",
    "mushroom_weight_1_neg = len(mushroom_x)/mushroom_count_dict.get(-1)\n",
    "mushroom_weight_1_pos = len(mushroom_x)/mushroom_count_dict.get(1)\n",
    "mushroom_class_weights = {-1: mushroom_weight_1_neg , 1: mushroom_weight_1_pos } \n"
   ]
  },
  {
   "cell_type": "markdown",
   "id": "c708ac4b",
   "metadata": {},
   "source": [
    "# Support Vector Machines\n",
    "\n",
    "\n",
    "We won't use the default SVM library but rather SVCLinear. It is similar to SVC with parameter kernel=’linear’, but implemented in terms of liblinear rather than libsvm, so it has more flexibility in the choice of penalties and loss functions and should scale better to large numbers of samples.The main differences between LinearSVC and SVC lie in the loss function used by default, and in the handling of intercept regularization between those two implementations.\n",
    "\n",
    "The goal here is to find the best hyperparameter C "
   ]
  },
  {
   "cell_type": "code",
   "execution_count": 69,
   "id": "05a19504",
   "metadata": {
    "scrolled": true
   },
   "outputs": [],
   "source": [
    "from sklearn.svm import LinearSVC\n",
    "from sklearn.metrics import classification_report\n",
    "from sklearn.preprocessing import MinMaxScaler\n",
    "from sklearn.metrics import accuracy_score\n",
    "import scipy.io as sio\n",
    "import matplotlib.pyplot as plt\n",
    "import numpy as np\n",
    "import seaborn as sns\n"
   ]
  },
  {
   "cell_type": "code",
   "execution_count": 70,
   "id": "8a6692ac",
   "metadata": {
    "scrolled": true
   },
   "outputs": [],
   "source": [
    "# Hyperparamter list\n",
    "C_list = [0.1, 1, 10, 100, 1000, 10000]"
   ]
  },
  {
   "cell_type": "code",
   "execution_count": 71,
   "id": "57435934",
   "metadata": {
    "scrolled": true
   },
   "outputs": [],
   "source": [
    "# Draw heatmaps for result of grid search.\n",
    "def draw_heatmap(errors, param_list, title):\n",
    "    plt.figure(figsize = (2,4))\n",
    "    ax = sns.heatmap(errors, annot=True, fmt='.4f', yticklabels=param_list, xticklabels=[])\n",
    "    ax.collections[0].colorbar.set_label('error')\n",
    "    ax.set(ylabel='hyper parameter')\n",
    "    bottom, top = ax.get_ylim()\n",
    "    ax.set_ylim(bottom + 0.5, top - 0.5)\n",
    "    plt.title(title)\n",
    "    plt.show()\n"
   ]
  },
  {
   "cell_type": "code",
   "execution_count": 72,
   "id": "4555d44c",
   "metadata": {
    "scrolled": false
   },
   "outputs": [],
   "source": [
    "\n",
    "def calcSVCMetrics(X_train,X_test, Y_train,Y_test, C_List, class_weights):\n",
    "\n",
    "    clf = LinearSVC(dual=False, class_weight=class_weights)\n",
    "    param_grid = {'C': C_list}\n",
    "\n",
    "    \n",
    "    # Perform 3-Fold cross validation for each hyperparameter\n",
    "    grid_search = GridSearchCV(clf, param_grid, cv=3, return_train_score=True )  \n",
    "    \n",
    "    # Fit the model\n",
    "    grid_search.fit(X_train, Y_train)    \n",
    "    \n",
    "    # Gather the results\n",
    "    opt_C = grid_search.best_params_['C']  \n",
    "                                                 \n",
    "                                        \n",
    "    cross_validation_accuracies =  grid_search.cv_results_['mean_test_score']\n",
    "    cross_validation_errors = 1 - cross_validation_accuracies.reshape(-1,1)\n",
    "    \n",
    "    mean_training_accuracies = grid_search.cv_results_['mean_train_score']\n",
    "    mean_training_errors = 1 - mean_training_accuracies.reshape(-1,1)\n",
    "    \n",
    "    Y_pred = grid_search.best_estimator_.predict(X_test)\n",
    "    test_accuracy = accuracy_score(Y_pred, Y_test)\n",
    "    test_error = 1 - sum(Y_pred == Y_test) / len(X_test)\n",
    "\n",
    "    \n",
    "    return opt_C,cross_validation_accuracies, cross_validation_errors, mean_training_accuracies, mean_training_errors, test_accuracy, test_error"
   ]
  },
  {
   "cell_type": "markdown",
   "id": "6352832e",
   "metadata": {},
   "source": [
    "## SVM for BANK "
   ]
  },
  {
   "cell_type": "code",
   "execution_count": 79,
   "id": "0de8db36",
   "metadata": {
    "scrolled": false
   },
   "outputs": [
    {
     "data": {
      "image/png": "[encoded data removed]",
      "text/plain": [
       "<Figure size 144x288 with 2 Axes>"
      ]
     },
     "metadata": {
      "needs_background": "light"
     },
     "output_type": "display_data"
    },
    {
     "name": "stdout",
     "output_type": "stream",
     "text": [
      "Best C: 0.1\n",
      "Test error: 0.15969476623627965\n",
      "Test accuracy: 0.8403052337637203\n",
      "Avg training error per C: [[0.14902676]\n",
      " [0.14924795]\n",
      " [0.14891617]\n",
      " [0.14875028]\n",
      " [0.14897147]\n",
      " [0.14869498]]\n",
      "Avg training accuracies per C: [0.85097324 0.85075205 0.85108383 0.85124972 0.85102853 0.85130502]\n"
     ]
    }
   ],
   "source": [
    "# Array to track accuracies for each partition\n",
    "svm_bank_accs = []\n",
    "\n",
    "# 20% Training and 80% Testing \n",
    "bank_x_train_20, bank_x_test_80, bank_y_train_20, bank_y_test_80 = train_test_split(bank_x, bank_y, test_size=0.8)\n",
    "opt_C, cross_validation_accuracies, cross_validation_errors, mean_training_accuracies, mean_training_errors, test_accuracy, test_error  =  calcSVCMetrics(bank_x_train_20, bank_x_test_80, bank_y_train_20, bank_y_test_80, C_list, bank_class_weights)\n",
    "\n",
    "draw_heatmap(cross_validation_errors, C_list, title='cross-validation error w.r.t C')\n",
    "print(\"Best C: {}\".format(opt_C))\n",
    "print(\"Test error: {}\".format(test_error))\n",
    "print(\"Test accuracy: {}\".format(test_accuracy))\n",
    "print(\"Avg training error per C: {}\".format(mean_training_errors))\n",
    "print(\"Avg training accuracies per C: {}\".format(mean_training_accuracies))\n",
    "\n",
    "svm_bank_accs.append(test_accuracy)"
   ]
  },
  {
   "cell_type": "code",
   "execution_count": 80,
   "id": "4c4e9536",
   "metadata": {
    "scrolled": false
   },
   "outputs": [
    {
     "data": {
      "image/png": "[encoded data removed]",
      "text/plain": [
       "<Figure size 144x288 with 2 Axes>"
      ]
     },
     "metadata": {
      "needs_background": "light"
     },
     "output_type": "display_data"
    },
    {
     "name": "stdout",
     "output_type": "stream",
     "text": [
      "Best C: 10\n",
      "Test error: 0.14987171547376799\n",
      "Test accuracy: 0.850128284526232\n",
      "Avg training error per C: [[0.14353019]\n",
      " [0.14350807]\n",
      " [0.14361867]\n",
      " [0.14346384]\n",
      " [0.14346384]\n",
      " [0.14359655]]\n",
      "Avg training accuracies per C: [0.85646981 0.85649193 0.85638133 0.85653616 0.85653616 0.85640345]\n"
     ]
    }
   ],
   "source": [
    "# 50% Training and 50% Testing \n",
    "bank_x_train_50, bank_x_test_50, bank_y_train_50, bank_y_test_50 = train_test_split(bank_x, bank_y, test_size=0.5)\n",
    "opt_C, cross_validation_accuracies, cross_validation_errors, mean_training_accuracies, mean_training_errors, test_accuracy, test_error  =  calcSVCMetrics(bank_x_train_50, bank_x_test_50, bank_y_train_50, bank_y_test_50, C_list, bank_class_weights )\n",
    "\n",
    "draw_heatmap(cross_validation_errors, C_list, title='cross-validation error w.r.t C')\n",
    "print(\"Best C: {}\".format(opt_C))\n",
    "print(\"Test error: {}\".format(test_error))\n",
    "print(\"Test accuracy: {}\".format(test_accuracy))\n",
    "print(\"Avg training error per C: {}\".format(mean_training_errors))\n",
    "print(\"Avg training accuracies per C: {}\".format(mean_training_accuracies))\n",
    "svm_bank_accs.append(test_accuracy)"
   ]
  },
  {
   "cell_type": "code",
   "execution_count": 81,
   "id": "162e095f",
   "metadata": {
    "scrolled": false
   },
   "outputs": [
    {
     "data": {
      "image/png": "[encoded data removed]",
      "text/plain": [
       "<Figure size 144x288 with 2 Axes>"
      ]
     },
     "metadata": {
      "needs_background": "light"
     },
     "output_type": "display_data"
    },
    {
     "name": "stdout",
     "output_type": "stream",
     "text": [
      "Best C: 0.1\n",
      "Test error: 0.15348888643149394\n",
      "Test accuracy: 0.8465111135685061\n",
      "Avg training error per C: [[0.15011889]\n",
      " [0.15017419]\n",
      " [0.15034008]\n",
      " [0.15039538]\n",
      " [0.15011889]\n",
      " [0.15028478]]\n",
      "Avg training accuracies per C: [0.84988111 0.84982581 0.84965992 0.84960462 0.84988111 0.84971522]\n"
     ]
    }
   ],
   "source": [
    "# 80% Training and 20% Testing \n",
    "bank_x_train_80, bank_x_test_20, bank_y_train_80, bank_y_test_20 = train_test_split(bank_x, bank_y, test_size=0.2)\n",
    "opt_C, cross_validation_accuracies, cross_validation_errors, mean_training_accuracies, mean_training_errors, test_accuracy, test_error  =  calcSVCMetrics(bank_x_train_80, bank_x_test_20, bank_y_train_80, bank_y_test_20, C_list, bank_class_weights  )\n",
    "\n",
    "draw_heatmap(cross_validation_errors, C_list, title='cross-validation error w.r.t C')\n",
    "print(\"Best C: {}\".format(opt_C))\n",
    "print(\"Test error: {}\".format(test_error))\n",
    "print(\"Test accuracy: {}\".format(test_accuracy))\n",
    "print(\"Avg training error per C: {}\".format(mean_training_errors))\n",
    "print(\"Avg training accuracies per C: {}\".format(mean_training_accuracies))\n",
    "\n",
    "svm_bank_accs.append(test_accuracy)"
   ]
  },
  {
   "cell_type": "markdown",
   "id": "11bd0a01",
   "metadata": {},
   "source": [
    "## SVM For INCOME\n"
   ]
  },
  {
   "cell_type": "code",
   "execution_count": 85,
   "id": "d226b8ec",
   "metadata": {
    "scrolled": false
   },
   "outputs": [
    {
     "data": {
      "image/png": "[encoded data removed]",
      "text/plain": [
       "<Figure size 144x288 with 2 Axes>"
      ]
     },
     "metadata": {
      "needs_background": "light"
     },
     "output_type": "display_data"
    },
    {
     "name": "stdout",
     "output_type": "stream",
     "text": [
      "Best C: 1000\n",
      "Test error: 0.1992859336609336\n",
      "Test accuracy: 0.8007140663390664\n",
      "Avg training error per C: [[0.19878695]\n",
      " [0.20845929]\n",
      " [0.19794204]\n",
      " [0.20124251]\n",
      " [0.19172213]\n",
      " [0.20170371]]\n",
      "Avg training accuracies per C: [0.80121305 0.79154071 0.80205796 0.79875749 0.80827787 0.79829629]\n"
     ]
    }
   ],
   "source": [
    "svm_income_accs = []\n",
    "# 20% Training and 80% Testing \n",
    "income_x_train_20, income_x_test_80, income_y_train_20, income_y_test_80 = train_test_split(income_x, income_y, test_size=0.8)\n",
    "opt_C, cross_validation_accuracies, cross_validation_errors, mean_training_accuracies, mean_training_errors, test_accuracy, test_error  =  calcSVCMetrics(income_x_train_20, income_x_test_80, income_y_train_20, income_y_test_80, C_list, income_class_weights)\n",
    "\n",
    "draw_heatmap(cross_validation_errors, C_list, title='cross-validation error w.r.t C')\n",
    "print(\"Best C: {}\".format(opt_C))\n",
    "print(\"Test error: {}\".format(test_error))\n",
    "print(\"Test accuracy: {}\".format(test_accuracy))\n",
    "print(\"Avg training error per C: {}\".format(mean_training_errors))\n",
    "print(\"Avg training accuracies per C: {}\".format(mean_training_accuracies))\n",
    "\n",
    "svm_income_accs.append(test_accuracy)"
   ]
  },
  {
   "cell_type": "code",
   "execution_count": 86,
   "id": "00a9c99b",
   "metadata": {
    "scrolled": false
   },
   "outputs": [
    {
     "data": {
      "image/png": "[encoded data removed]",
      "text/plain": [
       "<Figure size 144x288 with 2 Axes>"
      ]
     },
     "metadata": {
      "needs_background": "light"
     },
     "output_type": "display_data"
    },
    {
     "name": "stdout",
     "output_type": "stream",
     "text": [
      "Best C: 0.1\n",
      "Test error: 0.18906633906633907\n",
      "Test accuracy: 0.8109336609336609\n",
      "Avg training error per C: [[0.19367318]\n",
      " [0.1941646 ]\n",
      " [0.19702097]\n",
      " [0.19490163]\n",
      " [0.19656026]\n",
      " [0.19241396]]\n",
      "Avg training accuracies per C: [0.80632682 0.8058354  0.80297903 0.80509837 0.80343974 0.80758604]\n"
     ]
    }
   ],
   "source": [
    "# 50% Training and 50% Testing \n",
    "income_x_train_50, income_x_test_50, income_y_train_50, income_y_test_50 = train_test_split(income_x, income_y, test_size=0.5)\n",
    "opt_C, cross_validation_accuracies, cross_validation_errors, mean_training_accuracies, mean_training_errors, test_accuracy, test_error  =  calcSVCMetrics(income_x_train_50, income_x_test_50, income_y_train_50, income_y_test_50, C_list, income_class_weights)\n",
    "\n",
    "draw_heatmap(cross_validation_errors, C_list, title='cross-validation error w.r.t C')\n",
    "print(\"Best C: {}\".format(opt_C))\n",
    "print(\"Test error: {}\".format(test_error))\n",
    "print(\"Test accuracy: {}\".format(test_accuracy))\n",
    "print(\"Avg training error per C: {}\".format(mean_training_errors))\n",
    "print(\"Avg training accuracies per C: {}\".format(mean_training_accuracies))\n",
    "\n",
    "svm_income_accs.append(test_accuracy)"
   ]
  },
  {
   "cell_type": "code",
   "execution_count": 87,
   "id": "7c56808a",
   "metadata": {
    "scrolled": false
   },
   "outputs": [
    {
     "data": {
      "image/png": "[encoded data removed]",
      "text/plain": [
       "<Figure size 144x288 with 2 Axes>"
      ]
     },
     "metadata": {
      "needs_background": "light"
     },
     "output_type": "display_data"
    },
    {
     "name": "stdout",
     "output_type": "stream",
     "text": [
      "Best C: 0.1\n",
      "Test error: 0.1904176904176904\n",
      "Test accuracy: 0.8095823095823096\n",
      "Avg training error per C: [[0.19890202]\n",
      " [0.20199257]\n",
      " [0.2000922 ]\n",
      " [0.19859488]\n",
      " [0.20155109]\n",
      " [0.20160863]]\n",
      "Avg training accuracies per C: [0.80109798 0.79800743 0.7999078  0.80140512 0.79844891 0.79839137]\n"
     ]
    }
   ],
   "source": [
    "# 80% Training and 20% Testing \n",
    "income_x_train_80, income_x_test_20, income_y_train_80, income_y_test_20 = train_test_split(income_x, income_y, test_size=0.2)\n",
    "opt_C, cross_validation_accuracies, cross_validation_errors, mean_training_accuracies, mean_training_errors, test_accuracy, test_error  =  calcSVCMetrics(income_x_train_80, income_x_test_20, income_y_train_80, income_y_test_20, C_list, income_class_weights)\n",
    "\n",
    "draw_heatmap(cross_validation_errors, C_list, title='cross-validation error w.r.t C')\n",
    "print(\"Best C: {}\".format(opt_C))\n",
    "print(\"Test error: {}\".format(test_error))\n",
    "print(\"Test accuracy: {}\".format(test_accuracy))\n",
    "print(\"Avg training error per C: {}\".format(mean_training_errors))\n",
    "print(\"Avg training accuracies per C: {}\".format(mean_training_accuracies))\n",
    "\n",
    "svm_income_accs.append(test_accuracy)"
   ]
  },
  {
   "cell_type": "markdown",
   "id": "0e750375",
   "metadata": {},
   "source": [
    "## SVM For MUSHROOM"
   ]
  },
  {
   "cell_type": "code",
   "execution_count": 88,
   "id": "b1ea6c2d",
   "metadata": {
    "scrolled": false
   },
   "outputs": [
    {
     "data": {
      "image/png": "[encoded data removed]",
      "text/plain": [
       "<Figure size 144x288 with 2 Axes>"
      ]
     },
     "metadata": {
      "needs_background": "light"
     },
     "output_type": "display_data"
    },
    {
     "name": "stdout",
     "output_type": "stream",
     "text": [
      "Best C: 0.1\n",
      "Test error: 0.2021652334152334\n",
      "Test accuracy: 0.7978347665847666\n",
      "Avg training error per C: [[0.19702089]\n",
      " [0.19702089]\n",
      " [0.19702089]\n",
      " [0.19702089]\n",
      " [0.19702089]\n",
      " [0.19702089]]\n",
      "Avg training accuracies per C: [0.80297911 0.80297911 0.80297911 0.80297911 0.80297911 0.80297911]\n"
     ]
    }
   ],
   "source": [
    "svm_mushroom_accs = []\n",
    "\n",
    "# 20% Training and 80% Testing \n",
    "mushroom_x_train_20, mushroom_x_test_80, mushroom_y_train_20, mushroom_y_test_80 = train_test_split(income_x, income_y, test_size=0.8)\n",
    "opt_C, cross_validation_accuracies, cross_validation_errors, mean_training_accuracies, mean_training_errors, test_accuracy, test_error  =  calcSVCMetrics(mushroom_x_train_20, mushroom_x_test_80, mushroom_y_train_20, mushroom_y_test_80, C_list, mushroom_class_weights)\n",
    "\n",
    "draw_heatmap(cross_validation_errors, C_list, title='cross-validation error w.r.t C')\n",
    "print(\"Best C: {}\".format(opt_C))\n",
    "print(\"Test error: {}\".format(test_error))\n",
    "print(\"Test accuracy: {}\".format(test_accuracy))\n",
    "print(\"Avg training error per C: {}\".format(mean_training_errors))\n",
    "print(\"Avg training accuracies per C: {}\".format(mean_training_accuracies))\n",
    "svm_mushroom_accs.append(test_accuracy)"
   ]
  },
  {
   "cell_type": "code",
   "execution_count": 89,
   "id": "4487a829",
   "metadata": {
    "scrolled": false
   },
   "outputs": [
    {
     "data": {
      "image/png": "[encoded data removed]",
      "text/plain": [
       "<Figure size 144x288 with 2 Axes>"
      ]
     },
     "metadata": {
      "needs_background": "light"
     },
     "output_type": "display_data"
    },
    {
     "name": "stdout",
     "output_type": "stream",
     "text": [
      "Best C: 0.1\n",
      "Test error: 0.20399262899262904\n",
      "Test accuracy: 0.796007371007371\n",
      "Avg training error per C: [[0.20042998]\n",
      " [0.20049141]\n",
      " [0.20021501]\n",
      " [0.20042998]\n",
      " [0.20042998]\n",
      " [0.20042998]]\n",
      "Avg training accuracies per C: [0.79957002 0.79950859 0.79978499 0.79957002 0.79957002 0.79957002]\n"
     ]
    }
   ],
   "source": [
    "# 50% Training and 50% Testing \n",
    "mushroom_x_train_50, mushroom_x_test_50, mushroom_y_train_50, mushroom_y_test_50 = train_test_split(income_x, income_y, test_size=0.5)\n",
    "opt_C, cross_validation_accuracies, cross_validation_errors, mean_training_accuracies, mean_training_errors, test_accuracy, test_error  =  calcSVCMetrics(mushroom_x_train_50, mushroom_x_test_50, mushroom_y_train_50, mushroom_y_test_50, C_list, mushroom_class_weights)\n",
    "\n",
    "draw_heatmap(cross_validation_errors, C_list, title='cross-validation error w.r.t C')\n",
    "print(\"Best C: {}\".format(opt_C))\n",
    "print(\"Test error: {}\".format(test_error))\n",
    "print(\"Test accuracy: {}\".format(test_accuracy))\n",
    "print(\"Avg training error per C: {}\".format(mean_training_errors))\n",
    "print(\"Avg training accuracies per C: {}\".format(mean_training_accuracies))\n",
    "svm_mushroom_accs.append(test_accuracy)"
   ]
  },
  {
   "cell_type": "code",
   "execution_count": 90,
   "id": "4b53be6e",
   "metadata": {
    "scrolled": false
   },
   "outputs": [
    {
     "data": {
      "image/png": "[encoded data removed]",
      "text/plain": [
       "<Figure size 144x288 with 2 Axes>"
      ]
     },
     "metadata": {
      "needs_background": "light"
     },
     "output_type": "display_data"
    },
    {
     "name": "stdout",
     "output_type": "stream",
     "text": [
      "Best C: 1\n",
      "Test error: 0.2010135135135135\n",
      "Test accuracy: 0.7989864864864865\n",
      "Avg training error per C: [[0.20181971]\n",
      " [0.2018389 ]\n",
      " [0.20166614]\n",
      " [0.20168533]\n",
      " [0.20155097]\n",
      " [0.20181971]]\n",
      "Avg training accuracies per C: [0.79818029 0.7981611  0.79833386 0.79831467 0.79844903 0.79818029]\n"
     ]
    }
   ],
   "source": [
    "# 80% Training and 20% Testing \n",
    "mushroom_x_train_80, mushroom_x_test_20, mushroom_y_train_80, mushroom_y_test_20 = train_test_split(income_x, income_y, test_size=0.2)\n",
    "opt_C, cross_validation_accuracies, cross_validation_errors, mean_training_accuracies, mean_training_errors, test_accuracy, test_error  =  calcSVCMetrics(mushroom_x_train_80, mushroom_x_test_20, mushroom_y_train_80, mushroom_y_test_20, C_list, mushroom_class_weights)\n",
    "\n",
    "draw_heatmap(cross_validation_errors, C_list, title='cross-validation error w.r.t C')\n",
    "print(\"Best C: {}\".format(opt_C))\n",
    "print(\"Test error: {}\".format(test_error))\n",
    "print(\"Test accuracy: {}\".format(test_accuracy))\n",
    "print(\"Avg training error per C: {}\".format(mean_training_errors))\n",
    "print(\"Avg training accuracies per C: {}\".format(mean_training_accuracies))\n",
    "svm_mushroom_accs.append(test_accuracy)"
   ]
  },
  {
   "cell_type": "markdown",
   "id": "a14c5bbf",
   "metadata": {},
   "source": [
    "## SVM Results\n",
    "\n",
    "Now that we've performed training and testing on all three datasets and partitions, let's average all the test accuracies. We'll use this to help with our comparison against Caruana's findings. \n",
    "\n"
   ]
  },
  {
   "cell_type": "code",
   "execution_count": 91,
   "id": "09f25d29",
   "metadata": {
    "scrolled": true
   },
   "outputs": [
    {
     "name": "stdout",
     "output_type": "stream",
     "text": [
      "[0.8403052337637203, 0.850128284526232, 0.8465111135685061]\n",
      "[0.8007140663390664, 0.8109336609336609, 0.8095823095823096]\n",
      "[0.7978347665847666, 0.796007371007371, 0.7989864864864865]\n",
      "Average SVM accuracy 0.8167781436435688\n"
     ]
    }
   ],
   "source": [
    "average_accuracy = np.sum([a + b + c for a, b, c in zip(svm_bank_accs, svm_income_accs, svm_mushroom_accs)]) / 9\n",
    "print(svm_bank_accs)\n",
    "print(svm_income_accs)\n",
    "print(svm_mushroom_accs)\n",
    "print(\"Average SVM accuracy {}\".format(average_accuracy))\n"
   ]
  },
  {
   "cell_type": "markdown",
   "id": "8095ce46",
   "metadata": {},
   "source": [
    "# K Nearest Neighbors"
   ]
  },
  {
   "cell_type": "code",
   "execution_count": 92,
   "id": "5925a97b",
   "metadata": {
    "scrolled": true
   },
   "outputs": [],
   "source": [
    "import scipy\n",
    "from matplotlib.colors import ListedColormap\n",
    "from functools import partial\n",
    "from sklearn.neighbors import KNeighborsClassifier\n",
    "\n",
    "# Hyperparameter list of possible K's\n",
    "# Becuase of the scope of the project, I capped it at 15 since KNN involves expensive operations\n",
    "k_range = list(range(1, 16))"
   ]
  },
  {
   "cell_type": "code",
   "execution_count": 93,
   "id": "f5d4a60a",
   "metadata": {
    "scrolled": true
   },
   "outputs": [],
   "source": [
    "\n",
    "def calcKNNMetrics(X_train,X_test, Y_train,Y_test,k_range):\n",
    "\n",
    "    param_grid = dict(n_neighbors=k_range)\n",
    "    clf = KNeighborsClassifier(algorithm = 'kd_tree', weights='distance')        \n",
    "\n",
    "    grid_search = GridSearchCV(clf, param_grid, cv=3, return_train_score=True,verbose=1, )\n",
    "\n",
    "    # Fit the model\n",
    "    grid_search.fit(X_train, Y_train)    \n",
    "    \n",
    "    # Gather the results\n",
    "    opt_K = grid_search.best_params_\n",
    "                                                 \n",
    "                                        \n",
    "    cross_validation_accuracies =  grid_search.cv_results_['mean_test_score']\n",
    "    cross_validation_errors = 1 - cross_validation_accuracies.reshape(-1,1)\n",
    "    \n",
    "    mean_training_accuracies = grid_search.cv_results_['mean_train_score']\n",
    "    mean_training_errors = 1 - mean_training_accuracies.reshape(-1,1)\n",
    "    \n",
    "    Y_pred = grid_search.best_estimator_.predict(X_test)\n",
    "    test_accuracy = accuracy_score(Y_pred, Y_test)\n",
    "    test_error = 1 - sum(Y_pred == Y_test) / len(X_test)\n",
    "\n",
    "    \n",
    "    return opt_K,cross_validation_accuracies, cross_validation_errors, mean_training_accuracies, mean_training_errors, test_accuracy, test_error"
   ]
  },
  {
   "cell_type": "markdown",
   "id": "3d1376a0",
   "metadata": {},
   "source": [
    "## KNN for Bank"
   ]
  },
  {
   "cell_type": "code",
   "execution_count": 94,
   "id": "54e36479",
   "metadata": {
    "scrolled": false
   },
   "outputs": [
    {
     "name": "stdout",
     "output_type": "stream",
     "text": [
      "Fitting 3 folds for each of 15 candidates, totalling 45 fits\n"
     ]
    },
    {
     "data": {
      "image/png": "[encoded data removed]",
      "text/plain": [
       "<Figure size 144x288 with 2 Axes>"
      ]
     },
     "metadata": {
      "needs_background": "light"
     },
     "output_type": "display_data"
    },
    {
     "name": "stdout",
     "output_type": "stream",
     "text": [
      "Best C: {'n_neighbors': 15}\n",
      "Test error: 0.11565152478641927\n",
      "Test accuracy: 0.8843484752135807\n",
      "Avg training error per K: [[0.]\n",
      " [0.]\n",
      " [0.]\n",
      " [0.]\n",
      " [0.]\n",
      " [0.]\n",
      " [0.]\n",
      " [0.]\n",
      " [0.]\n",
      " [0.]\n",
      " [0.]\n",
      " [0.]\n",
      " [0.]\n",
      " [0.]\n",
      " [0.]]\n",
      "Avg training accuracies per K: [1. 1. 1. 1. 1. 1. 1. 1. 1. 1. 1. 1. 1. 1. 1.]\n"
     ]
    }
   ],
   "source": [
    "knn_bank_accs = []\n",
    "# 20% Training and 80% Testing \n",
    "bank_x_train_20, bank_x_test_80, bank_y_train_20, bank_y_test_80 = train_test_split(bank_x, bank_y, test_size=0.8)\n",
    "opt_K, cross_validation_accuracies, cross_validation_errors, mean_training_accuracies, mean_training_errors, test_accuracy, test_error  =  calcKNNMetrics(bank_x_train_20, bank_x_test_80, bank_y_train_20, bank_y_test_80, k_range)\n",
    "\n",
    "draw_heatmap(cross_validation_errors, k_range, title='cross-validation error w.r.t K')\n",
    "print(\"Best C: {}\".format(opt_K))\n",
    "print(\"Test error: {}\".format(test_error))\n",
    "print(\"Test accuracy: {}\".format(test_accuracy))\n",
    "print(\"Avg training error per K: {}\".format(mean_training_errors))\n",
    "print(\"Avg training accuracies per K: {}\".format(mean_training_accuracies))\n",
    "\n",
    "knn_bank_accs.append(test_accuracy)"
   ]
  },
  {
   "cell_type": "code",
   "execution_count": 95,
   "id": "023a8915",
   "metadata": {
    "scrolled": false
   },
   "outputs": [
    {
     "name": "stdout",
     "output_type": "stream",
     "text": [
      "Fitting 3 folds for each of 15 candidates, totalling 45 fits\n"
     ]
    },
    {
     "data": {
      "image/png": "[encoded data removed]",
      "text/plain": [
       "<Figure size 144x288 with 2 Axes>"
      ]
     },
     "metadata": {
      "needs_background": "light"
     },
     "output_type": "display_data"
    },
    {
     "name": "stdout",
     "output_type": "stream",
     "text": [
      "Best C: {'n_neighbors': 14}\n",
      "Test error: 0.11448288065115453\n",
      "Test accuracy: 0.8855171193488455\n",
      "Avg training error per K: [[0.]\n",
      " [0.]\n",
      " [0.]\n",
      " [0.]\n",
      " [0.]\n",
      " [0.]\n",
      " [0.]\n",
      " [0.]\n",
      " [0.]\n",
      " [0.]\n",
      " [0.]\n",
      " [0.]\n",
      " [0.]\n",
      " [0.]\n",
      " [0.]]\n",
      "Avg training accuracies per K: [1. 1. 1. 1. 1. 1. 1. 1. 1. 1. 1. 1. 1. 1. 1.]\n"
     ]
    }
   ],
   "source": [
    "# 50% Training and 50% Testing \n",
    "bank_x_train_50, bank_x_test_50, bank_y_train_50, bank_y_test_50 = train_test_split(bank_x, bank_y, test_size=0.5)\n",
    "opt_K, cross_validation_accuracies, cross_validation_errors, mean_training_accuracies, mean_training_errors, test_accuracy, test_error  =  calcKNNMetrics(bank_x_train_50, bank_x_test_50, bank_y_train_50, bank_y_test_50, k_range)\n",
    "\n",
    "draw_heatmap(cross_validation_errors, k_range, title='cross-validation error w.r.t K')\n",
    "print(\"Best C: {}\".format(opt_K))\n",
    "print(\"Test error: {}\".format(test_error))\n",
    "print(\"Test accuracy: {}\".format(test_accuracy))\n",
    "print(\"Avg training error per K: {}\".format(mean_training_errors))\n",
    "print(\"Avg training accuracies per K: {}\".format(mean_training_accuracies))\n",
    "\n",
    "knn_bank_accs.append(test_accuracy)"
   ]
  },
  {
   "cell_type": "code",
   "execution_count": 96,
   "id": "8158d242",
   "metadata": {
    "scrolled": false
   },
   "outputs": [
    {
     "name": "stdout",
     "output_type": "stream",
     "text": [
      "Fitting 3 folds for each of 15 candidates, totalling 45 fits\n"
     ]
    },
    {
     "data": {
      "image/png": "[encoded data removed]",
      "text/plain": [
       "<Figure size 144x288 with 2 Axes>"
      ]
     },
     "metadata": {
      "needs_background": "light"
     },
     "output_type": "display_data"
    },
    {
     "name": "stdout",
     "output_type": "stream",
     "text": [
      "Best C: {'n_neighbors': 15}\n",
      "Test error: 0.10969810903461241\n",
      "Test accuracy: 0.8903018909653876\n",
      "Avg training error per K: [[0.]\n",
      " [0.]\n",
      " [0.]\n",
      " [0.]\n",
      " [0.]\n",
      " [0.]\n",
      " [0.]\n",
      " [0.]\n",
      " [0.]\n",
      " [0.]\n",
      " [0.]\n",
      " [0.]\n",
      " [0.]\n",
      " [0.]\n",
      " [0.]]\n",
      "Avg training accuracies per K: [1. 1. 1. 1. 1. 1. 1. 1. 1. 1. 1. 1. 1. 1. 1.]\n"
     ]
    }
   ],
   "source": [
    "bank_x_train_80, bank_x_test_20, bank_y_train_80, bank_y_test_20 = train_test_split(bank_x, bank_y, test_size=0.2)\n",
    "opt_K, cross_validation_accuracies, cross_validation_errors, mean_training_accuracies, mean_training_errors, test_accuracy, test_error  =  calcKNNMetrics(bank_x_train_80, bank_x_test_20, bank_y_train_80, bank_y_test_20,k_range)\n",
    "\n",
    "draw_heatmap(cross_validation_errors, k_range, title='cross-validation error w.r.t K')\n",
    "print(\"Best C: {}\".format(opt_K))\n",
    "print(\"Test error: {}\".format(test_error))\n",
    "print(\"Test accuracy: {}\".format(test_accuracy))\n",
    "print(\"Avg training error per K: {}\".format(mean_training_errors))\n",
    "print(\"Avg training accuracies per K: {}\".format(mean_training_accuracies))\n",
    "\n",
    "knn_bank_accs.append(test_accuracy)"
   ]
  },
  {
   "cell_type": "markdown",
   "id": "6b36ebe3",
   "metadata": {},
   "source": [
    "## KNN For INCOME"
   ]
  },
  {
   "cell_type": "code",
   "execution_count": 97,
   "id": "b0267020",
   "metadata": {
    "scrolled": false
   },
   "outputs": [
    {
     "name": "stdout",
     "output_type": "stream",
     "text": [
      "Fitting 3 folds for each of 15 candidates, totalling 45 fits\n"
     ]
    },
    {
     "data": {
      "image/png": "[encoded data removed]",
      "text/plain": [
       "<Figure size 144x288 with 2 Axes>"
      ]
     },
     "metadata": {
      "needs_background": "light"
     },
     "output_type": "display_data"
    },
    {
     "name": "stdout",
     "output_type": "stream",
     "text": [
      "Best C: {'n_neighbors': 14}\n",
      "Test error: 0.22934582309582308\n",
      "Test accuracy: 0.7706541769041769\n",
      "Avg training error per K: [[0.]\n",
      " [0.]\n",
      " [0.]\n",
      " [0.]\n",
      " [0.]\n",
      " [0.]\n",
      " [0.]\n",
      " [0.]\n",
      " [0.]\n",
      " [0.]\n",
      " [0.]\n",
      " [0.]\n",
      " [0.]\n",
      " [0.]\n",
      " [0.]]\n",
      "Avg training accuracies per K: [1. 1. 1. 1. 1. 1. 1. 1. 1. 1. 1. 1. 1. 1. 1.]\n"
     ]
    }
   ],
   "source": [
    "knn_income_accs = []\n",
    "# 20% Training and 80% Testing \n",
    "income_x_train_20, income_x_test_80, income_y_train_20, income_y_test_80 = train_test_split(income_x, income_y, test_size=0.8)\n",
    "opt_K, cross_validation_accuracies, cross_validation_errors, mean_training_accuracies, mean_training_errors, test_accuracy, test_error  =  calcKNNMetrics(income_x_train_20, income_x_test_80, income_y_train_20, income_y_test_80, k_range)\n",
    "\n",
    "draw_heatmap(cross_validation_errors, k_range, title='cross-validation error w.r.t K')\n",
    "print(\"Best C: {}\".format(opt_K))\n",
    "print(\"Test error: {}\".format(test_error))\n",
    "print(\"Test accuracy: {}\".format(test_accuracy))\n",
    "print(\"Avg training error per K: {}\".format(mean_training_errors))\n",
    "print(\"Avg training accuracies per K: {}\".format(mean_training_accuracies))\n",
    "\n",
    "knn_income_accs.append(test_accuracy)"
   ]
  },
  {
   "cell_type": "code",
   "execution_count": 98,
   "id": "0d257f36",
   "metadata": {
    "scrolled": false
   },
   "outputs": [
    {
     "name": "stdout",
     "output_type": "stream",
     "text": [
      "Fitting 3 folds for each of 15 candidates, totalling 45 fits\n"
     ]
    },
    {
     "data": {
      "image/png": "[encoded data removed]",
      "text/plain": [
       "<Figure size 144x288 with 2 Axes>"
      ]
     },
     "metadata": {
      "needs_background": "light"
     },
     "output_type": "display_data"
    },
    {
     "name": "stdout",
     "output_type": "stream",
     "text": [
      "Best C: {'n_neighbors': 15}\n",
      "Test error: 0.2147420147420147\n",
      "Test accuracy: 0.7852579852579853\n",
      "Avg training error per K: [[0.]\n",
      " [0.]\n",
      " [0.]\n",
      " [0.]\n",
      " [0.]\n",
      " [0.]\n",
      " [0.]\n",
      " [0.]\n",
      " [0.]\n",
      " [0.]\n",
      " [0.]\n",
      " [0.]\n",
      " [0.]\n",
      " [0.]\n",
      " [0.]]\n",
      "Avg training accuracies per K: [1. 1. 1. 1. 1. 1. 1. 1. 1. 1. 1. 1. 1. 1. 1.]\n"
     ]
    }
   ],
   "source": [
    "income_x_train_50, income_x_test_50, income_y_train_50, income_y_test_50 = train_test_split(income_x, income_y, test_size=0.5)\n",
    "opt_K, cross_validation_accuracies, cross_validation_errors, mean_training_accuracies, mean_training_errors, test_accuracy, test_error  =  calcKNNMetrics(income_x_train_50, income_x_test_50, income_y_train_50, income_y_test_50, k_range)\n",
    "\n",
    "draw_heatmap(cross_validation_errors, k_range, title='cross-validation error w.r.t K')\n",
    "print(\"Best C: {}\".format(opt_K))\n",
    "print(\"Test error: {}\".format(test_error))\n",
    "print(\"Test accuracy: {}\".format(test_accuracy))\n",
    "print(\"Avg training error per K: {}\".format(mean_training_errors))\n",
    "print(\"Avg training accuracies per K: {}\".format(mean_training_accuracies))\n",
    "\n",
    "knn_income_accs.append(test_accuracy)"
   ]
  },
  {
   "cell_type": "code",
   "execution_count": 99,
   "id": "efb0f9b1",
   "metadata": {
    "scrolled": false
   },
   "outputs": [
    {
     "name": "stdout",
     "output_type": "stream",
     "text": [
      "Fitting 3 folds for each of 15 candidates, totalling 45 fits\n"
     ]
    },
    {
     "data": {
      "image/png": "[encoded data removed]",
      "text/plain": [
       "<Figure size 144x288 with 2 Axes>"
      ]
     },
     "metadata": {
      "needs_background": "light"
     },
     "output_type": "display_data"
    },
    {
     "name": "stdout",
     "output_type": "stream",
     "text": [
      "Best C: {'n_neighbors': 15}\n",
      "Test error: 0.2071560196560197\n",
      "Test accuracy: 0.7928439803439803\n",
      "Avg training error per K: [[1.91945948e-05]\n",
      " [1.91945948e-05]\n",
      " [1.91945948e-05]\n",
      " [1.91945948e-05]\n",
      " [1.91945948e-05]\n",
      " [1.91945948e-05]\n",
      " [1.91945948e-05]\n",
      " [1.91945948e-05]\n",
      " [1.91945948e-05]\n",
      " [1.91945948e-05]\n",
      " [1.91945948e-05]\n",
      " [1.91945948e-05]\n",
      " [1.91945948e-05]\n",
      " [1.91945948e-05]\n",
      " [1.91945948e-05]]\n",
      "Avg training accuracies per K: [0.99998081 0.99998081 0.99998081 0.99998081 0.99998081 0.99998081\n",
      " 0.99998081 0.99998081 0.99998081 0.99998081 0.99998081 0.99998081\n",
      " 0.99998081 0.99998081 0.99998081]\n"
     ]
    }
   ],
   "source": [
    "income_x_train_80, income_x_test_20, income_y_train_80, income_y_test_20 = train_test_split(income_x, income_y, test_size=0.2)\n",
    "opt_K, cross_validation_accuracies, cross_validation_errors, mean_training_accuracies, mean_training_errors, test_accuracy, test_error  =  calcKNNMetrics( income_x_train_80, income_x_test_20, income_y_train_80, income_y_test_20 , k_range)\n",
    "\n",
    "draw_heatmap(cross_validation_errors, k_range, title='cross-validation error w.r.t K')\n",
    "print(\"Best C: {}\".format(opt_K))\n",
    "print(\"Test error: {}\".format(test_error))\n",
    "print(\"Test accuracy: {}\".format(test_accuracy))\n",
    "print(\"Avg training error per K: {}\".format(mean_training_errors))\n",
    "print(\"Avg training accuracies per K: {}\".format(mean_training_accuracies))\n",
    "\n",
    "knn_income_accs.append(test_accuracy)"
   ]
  },
  {
   "cell_type": "markdown",
   "id": "49a251b8",
   "metadata": {},
   "source": [
    "## KNN For MUSHROOM"
   ]
  },
  {
   "cell_type": "code",
   "execution_count": 100,
   "id": "803ec9a7",
   "metadata": {
    "scrolled": false
   },
   "outputs": [
    {
     "name": "stdout",
     "output_type": "stream",
     "text": [
      "Fitting 3 folds for each of 15 candidates, totalling 45 fits\n"
     ]
    },
    {
     "data": {
      "image/png": "[encoded data removed]",
      "text/plain": [
       "<Figure size 144x288 with 2 Axes>"
      ]
     },
     "metadata": {
      "needs_background": "light"
     },
     "output_type": "display_data"
    },
    {
     "name": "stdout",
     "output_type": "stream",
     "text": [
      "Best K: {'n_neighbors': 15}\n",
      "Test error: 0.2264665233415234\n",
      "Test accuracy: 0.7735334766584766\n",
      "Avg training error per K: [[0.]\n",
      " [0.]\n",
      " [0.]\n",
      " [0.]\n",
      " [0.]\n",
      " [0.]\n",
      " [0.]\n",
      " [0.]\n",
      " [0.]\n",
      " [0.]\n",
      " [0.]\n",
      " [0.]\n",
      " [0.]\n",
      " [0.]\n",
      " [0.]]\n",
      "Avg training accuracies per K: [1. 1. 1. 1. 1. 1. 1. 1. 1. 1. 1. 1. 1. 1. 1.]\n"
     ]
    }
   ],
   "source": [
    "knn_mushroom_accs = []\n",
    "\n",
    "# 20% Training and 80% Testing \n",
    "mushroom_x_train_20, mushroom_x_test_80, mushroom_y_train_20, mushroom_y_test_80 = train_test_split(income_x, income_y, test_size=0.8)\n",
    "opt_K, cross_validation_accuracies, cross_validation_errors, mean_training_accuracies, mean_training_errors, test_accuracy, test_error   =  calcKNNMetrics(mushroom_x_train_20, mushroom_x_test_80, mushroom_y_train_20, mushroom_y_test_80,  k_range)\n",
    "\n",
    "\n",
    "draw_heatmap(cross_validation_errors, k_range, title='cross-validation error w.r.t K')\n",
    "print(\"Best K: {}\".format(opt_K))\n",
    "print(\"Test error: {}\".format(test_error))\n",
    "print(\"Test accuracy: {}\".format(test_accuracy))\n",
    "print(\"Avg training error per K: {}\".format(mean_training_errors))\n",
    "print(\"Avg training accuracies per K: {}\".format(mean_training_accuracies))\n",
    "\n",
    "knn_mushroom_accs.append(test_accuracy)"
   ]
  },
  {
   "cell_type": "code",
   "execution_count": 102,
   "id": "e8ac6767",
   "metadata": {
    "scrolled": false
   },
   "outputs": [
    {
     "name": "stdout",
     "output_type": "stream",
     "text": [
      "Fitting 3 folds for each of 15 candidates, totalling 45 fits\n"
     ]
    },
    {
     "data": {
      "image/png": "[encoded data removed]",
      "text/plain": [
       "<Figure size 144x288 with 2 Axes>"
      ]
     },
     "metadata": {
      "needs_background": "light"
     },
     "output_type": "display_data"
    },
    {
     "name": "stdout",
     "output_type": "stream",
     "text": [
      "Best K: {'n_neighbors': 15}\n",
      "Test error: 0.21517199017199018\n",
      "Test accuracy: 0.7848280098280098\n",
      "Avg training error per K: [[6.14241183e-05]\n",
      " [6.14241183e-05]\n",
      " [6.14241183e-05]\n",
      " [6.14241183e-05]\n",
      " [6.14241183e-05]\n",
      " [6.14241183e-05]\n",
      " [6.14241183e-05]\n",
      " [6.14241183e-05]\n",
      " [6.14241183e-05]\n",
      " [6.14241183e-05]\n",
      " [6.14241183e-05]\n",
      " [6.14241183e-05]\n",
      " [6.14241183e-05]\n",
      " [6.14241183e-05]\n",
      " [6.14241183e-05]]\n",
      "Avg training accuracies per K: [0.99993858 0.99993858 0.99993858 0.99993858 0.99993858 0.99993858\n",
      " 0.99993858 0.99993858 0.99993858 0.99993858 0.99993858 0.99993858\n",
      " 0.99993858 0.99993858 0.99993858]\n"
     ]
    }
   ],
   "source": [
    "# 50% Training and 50% Testing \n",
    "mushroom_x_train_50, mushroom_x_test_50, mushroom_y_train_50, mushroom_y_test_50 = train_test_split(income_x, income_y, test_size=0.5)\n",
    "opt_K, cross_validation_accuracies, cross_validation_errors, mean_training_accuracies, mean_training_errors, test_accuracy, test_error  =  calcKNNMetrics(mushroom_x_train_50, mushroom_x_test_50, mushroom_y_train_50, mushroom_y_test_50, k_range)\n",
    "\n",
    "draw_heatmap(cross_validation_errors, k_range, title='cross-validation error w.r.t K')\n",
    "print(\"Best K: {}\".format(opt_K))\n",
    "print(\"Test error: {}\".format(test_error))\n",
    "print(\"Test accuracy: {}\".format(test_accuracy))\n",
    "print(\"Avg training error per K: {}\".format(mean_training_errors))\n",
    "print(\"Avg training accuracies per K: {}\".format(mean_training_accuracies))\n",
    "\n",
    "knn_mushroom_accs.append(test_accuracy)"
   ]
  },
  {
   "cell_type": "code",
   "execution_count": 103,
   "id": "b9bd46d7",
   "metadata": {
    "scrolled": false
   },
   "outputs": [
    {
     "name": "stdout",
     "output_type": "stream",
     "text": [
      "Fitting 3 folds for each of 15 candidates, totalling 45 fits\n"
     ]
    },
    {
     "data": {
      "image/png": "[encoded data removed]",
      "text/plain": [
       "<Figure size 144x288 with 2 Axes>"
      ]
     },
     "metadata": {
      "needs_background": "light"
     },
     "output_type": "display_data"
    },
    {
     "name": "stdout",
     "output_type": "stream",
     "text": [
      "Best K: {'n_neighbors': 15}\n",
      "Test error: 0.20915233415233414\n",
      "Test accuracy: 0.7908476658476659\n",
      "Avg training error per K: [[3.8390295e-05]\n",
      " [3.8390295e-05]\n",
      " [3.8390295e-05]\n",
      " [3.8390295e-05]\n",
      " [3.8390295e-05]\n",
      " [3.8390295e-05]\n",
      " [3.8390295e-05]\n",
      " [3.8390295e-05]\n",
      " [3.8390295e-05]\n",
      " [3.8390295e-05]\n",
      " [3.8390295e-05]\n",
      " [3.8390295e-05]\n",
      " [3.8390295e-05]\n",
      " [3.8390295e-05]\n",
      " [3.8390295e-05]]\n",
      "Avg training accuracies per K: [0.99996161 0.99996161 0.99996161 0.99996161 0.99996161 0.99996161\n",
      " 0.99996161 0.99996161 0.99996161 0.99996161 0.99996161 0.99996161\n",
      " 0.99996161 0.99996161 0.99996161]\n"
     ]
    }
   ],
   "source": [
    "# 80% Training and 20% Testing \n",
    "mushroom_x_train_80, mushroom_x_test_20, mushroom_y_train_80, mushroom_y_test_20 = train_test_split(income_x, income_y, test_size=0.2)\n",
    "opt_C, cross_validation_accuracies, cross_validation_errors, mean_training_accuracies, mean_training_errors, test_accuracy, test_error  =  calcKNNMetrics(mushroom_x_train_80, mushroom_x_test_20, mushroom_y_train_80, mushroom_y_test_20,k_range)\n",
    "\n",
    "draw_heatmap(cross_validation_errors, k_range, title='cross-validation error w.r.t K')\n",
    "print(\"Best K: {}\".format(opt_K))\n",
    "print(\"Test error: {}\".format(test_error))\n",
    "print(\"Test accuracy: {}\".format(test_accuracy))\n",
    "print(\"Avg training error per K: {}\".format(mean_training_errors))\n",
    "print(\"Avg training accuracies per K: {}\".format(mean_training_accuracies))\n",
    "\n",
    "knn_mushroom_accs.append(test_accuracy)"
   ]
  },
  {
   "cell_type": "code",
   "execution_count": 104,
   "id": "323159a1",
   "metadata": {
    "scrolled": true
   },
   "outputs": [
    {
     "name": "stdout",
     "output_type": "stream",
     "text": [
      "0.8175703089297898\n"
     ]
    }
   ],
   "source": [
    "average_knn_accuracy = np.sum([a + b + c for a, b, c in zip(knn_bank_accs, knn_income_accs, knn_mushroom_accs)]) / 9\n",
    "print(average_knn_accuracy)"
   ]
  },
  {
   "cell_type": "markdown",
   "id": "2e1875cd",
   "metadata": {},
   "source": [
    "# Decision Tree"
   ]
  },
  {
   "cell_type": "code",
   "execution_count": 106,
   "id": "690c3eaf",
   "metadata": {
    "scrolled": true
   },
   "outputs": [],
   "source": [
    "import seaborn as sns\n",
    "from sklearn import tree\n",
    "\n",
    "D_list = [1, 2, 3, 4, 5, 6, 7, 8, 9, 10]"
   ]
  },
  {
   "cell_type": "code",
   "execution_count": 107,
   "id": "c7f850c6",
   "metadata": {
    "scrolled": true
   },
   "outputs": [],
   "source": [
    "def calcDTMetrics(X_train,X_test, Y_train,Y_test, D_list):\n",
    "\n",
    "    estimator = tree.DecisionTreeClassifier(criterion='entropy',random_state = 1 )\n",
    "\n",
    "    param_grid = {'max_depth': D_list}\n",
    "    grid_search = GridSearchCV(estimator, param_grid, cv=3, return_train_score=True)\n",
    "\n",
    "    # Fit the model\n",
    "    grid_search.fit(X_train, Y_train)    \n",
    "    \n",
    "    # Gather the results\n",
    "    opt_D = grid_search.best_params_['max_depth']\n",
    "                                                 \n",
    "                                        \n",
    "    cross_validation_accuracies =  grid_search.cv_results_['mean_test_score']\n",
    "    cross_validation_errors = 1 - cross_validation_accuracies.reshape(-1,1)\n",
    "    \n",
    "    mean_training_accuracies = grid_search.cv_results_['mean_train_score']\n",
    "    mean_training_errors = 1 - mean_training_accuracies.reshape(-1,1)\n",
    "    \n",
    "    Y_pred = grid_search.best_estimator_.predict(X_test)\n",
    "    test_accuracy = accuracy_score(Y_pred, Y_test)\n",
    "    test_error = 1 - sum(Y_pred == Y_test) / len(X_test)\n",
    "\n",
    "    \n",
    "    return opt_D ,cross_validation_accuracies, cross_validation_errors, mean_training_accuracies, mean_training_errors, test_accuracy, test_error"
   ]
  },
  {
   "cell_type": "markdown",
   "id": "556dab3e",
   "metadata": {},
   "source": [
    "## Decision Tree for BANK"
   ]
  },
  {
   "cell_type": "code",
   "execution_count": 128,
   "id": "500586d8",
   "metadata": {
    "scrolled": false
   },
   "outputs": [
    {
     "data": {
      "image/png": "[encoded data removed]",
      "text/plain": [
       "<Figure size 144x288 with 2 Axes>"
      ]
     },
     "metadata": {
      "needs_background": "light"
     },
     "output_type": "display_data"
    },
    {
     "name": "stdout",
     "output_type": "stream",
     "text": [
      "Best D: 5\n",
      "Test error: 0.15582770270270274\n",
      "Test accuracy: 0.8441722972972973\n",
      "Avg training error per D: [[0.24646806]\n",
      " [0.18542694]\n",
      " [0.16369683]\n",
      " [0.16369683]\n",
      " [0.15041451]\n",
      " [0.14534714]\n",
      " [0.13951186]\n",
      " [0.13075888]\n",
      " [0.12231271]\n",
      " [0.11425062]]\n",
      "Avg training accuracies per D: [0.75353194 0.81457306 0.83630317 0.83630317 0.84958549 0.85465286\n",
      " 0.86048814 0.86924112 0.87768729 0.88574938]\n"
     ]
    }
   ],
   "source": [
    "dt_bank_accs = []\n",
    "# 20% Training and 80% Testing \n",
    "bank_x_train_20, bank_x_test_80, bank_y_train_20, bank_y_test_80 = train_test_split(income_x, income_y, test_size=0.8)\n",
    "opt_D, cross_validation_accuracies, cross_validation_errors, mean_training_accuracies, mean_training_errors, test_accuracy, test_error  =  calcDTMetrics(bank_x_train_20, bank_x_test_80, bank_y_train_20, bank_y_test_80 , D_list)\n",
    "\n",
    "draw_heatmap(cross_validation_errors, D_list, title='cross-validation error w.r.t D')\n",
    "print(\"Best D: {}\".format(opt_D))\n",
    "print(\"Test error: {}\".format(test_error))\n",
    "print(\"Test accuracy: {}\".format(test_accuracy))\n",
    "print(\"Avg training error per D: {}\".format(mean_training_errors))\n",
    "print(\"Avg training accuracies per D: {}\".format(mean_training_accuracies))\n",
    "\n",
    "dt_bank_accs.append(test_accuracy)"
   ]
  },
  {
   "cell_type": "code",
   "execution_count": 129,
   "id": "e1425e70",
   "metadata": {
    "scrolled": false
   },
   "outputs": [
    {
     "data": {
      "image/png": "[encoded data removed]",
      "text/plain": [
       "<Figure size 144x288 with 2 Axes>"
      ]
     },
     "metadata": {
      "needs_background": "light"
     },
     "output_type": "display_data"
    },
    {
     "name": "stdout",
     "output_type": "stream",
     "text": [
      "Best D: 7\n",
      "Test error: 0.14533169533169532\n",
      "Test accuracy: 0.8546683046683047\n",
      "Avg training error per D: [[0.24146192]\n",
      " [0.17195945]\n",
      " [0.15795454]\n",
      " [0.15795454]\n",
      " [0.15540538]\n",
      " [0.14763514]\n",
      " [0.14345823]\n",
      " [0.13799139]\n",
      " [0.13175673]\n",
      " [0.12610566]]\n",
      "Avg training accuracies per D: [0.75853808 0.82804055 0.84204546 0.84204546 0.84459462 0.85236486\n",
      " 0.85654177 0.86200861 0.86824327 0.87389434]\n"
     ]
    }
   ],
   "source": [
    "# 50% Training and 50% Testing \n",
    "bank_x_train_50, bank_x_test_50, bank_y_train_50, bank_y_test_50 = train_test_split(income_x, income_y, test_size=0.5)\n",
    "opt_D, cross_validation_accuracies, cross_validation_errors, mean_training_accuracies, mean_training_errors, test_accuracy, test_error  =  calcDTMetrics(bank_x_train_50, bank_x_test_50, bank_y_train_50, bank_y_test_50, D_list)\n",
    "\n",
    "draw_heatmap(cross_validation_errors, D_list, title='cross-validation error w.r.t D')\n",
    "print(\"Best D: {}\".format(opt_D))\n",
    "print(\"Test error: {}\".format(test_error))\n",
    "print(\"Test accuracy: {}\".format(test_accuracy))\n",
    "print(\"Avg training error per D: {}\".format(mean_training_errors))\n",
    "print(\"Avg training accuracies per D: {}\".format(mean_training_accuracies))\n",
    "\n",
    "dt_bank_accs.append(test_accuracy)"
   ]
  },
  {
   "cell_type": "code",
   "execution_count": 130,
   "id": "09f230ff",
   "metadata": {
    "scrolled": false
   },
   "outputs": [
    {
     "data": {
      "image/png": "[encoded data removed]",
      "text/plain": [
       "<Figure size 144x288 with 2 Axes>"
      ]
     },
     "metadata": {
      "needs_background": "light"
     },
     "output_type": "display_data"
    },
    {
     "name": "stdout",
     "output_type": "stream",
     "text": [
      "Best D: 8\n",
      "Test error: 0.14296683046683045\n",
      "Test accuracy: 0.8570331695331695\n",
      "Avg training error per D: [[0.24105498]\n",
      " [0.18673203]\n",
      " [0.1561156 ]\n",
      " [0.15600043]\n",
      " [0.15189261]\n",
      " [0.14630682]\n",
      " [0.14294764]\n",
      " [0.13918534]\n",
      " [0.13484716]\n",
      " [0.13087369]]\n",
      "Avg training accuracies per D: [0.75894502 0.81326797 0.8438844  0.84399957 0.84810739 0.85369318\n",
      " 0.85705236 0.86081466 0.86515284 0.86912631]\n"
     ]
    }
   ],
   "source": [
    "# 80% Training and 20% Testing \n",
    "bank_x_train_80, bank_x_test_20, bank_y_train_80, bank_y_test_20 = train_test_split(income_x, income_y, test_size=0.2)\n",
    "opt_D, cross_validation_accuracies, cross_validation_errors, mean_training_accuracies, mean_training_errors, test_accuracy, test_error  =  calcDTMetrics(bank_x_train_80, bank_x_test_20, bank_y_train_80, bank_y_test_20, D_list)\n",
    "\n",
    "draw_heatmap(cross_validation_errors, D_list, title='cross-validation error w.r.t D')\n",
    "print(\"Best D: {}\".format(opt_D))\n",
    "print(\"Test error: {}\".format(test_error))\n",
    "print(\"Test accuracy: {}\".format(test_accuracy))\n",
    "print(\"Avg training error per D: {}\".format(mean_training_errors))\n",
    "print(\"Avg training accuracies per D: {}\".format(mean_training_accuracies))\n",
    "\n",
    "dt_bank_accs.append(test_accuracy)"
   ]
  },
  {
   "cell_type": "markdown",
   "id": "0a51996e",
   "metadata": {},
   "source": [
    "## Decision Tree for INCOME"
   ]
  },
  {
   "cell_type": "code",
   "execution_count": 114,
   "id": "e76e22ed",
   "metadata": {
    "scrolled": false
   },
   "outputs": [
    {
     "data": {
      "image/png": "[encoded data removed]",
      "text/plain": [
       "<Figure size 144x288 with 2 Axes>"
      ]
     },
     "metadata": {
      "needs_background": "light"
     },
     "output_type": "display_data"
    },
    {
     "name": "stdout",
     "output_type": "stream",
     "text": [
      "Best D: 6\n",
      "Test error: 0.1491477272727273\n",
      "Test accuracy: 0.8508522727272727\n",
      "Avg training error per D: [[0.24017199]\n",
      " [0.17813322]\n",
      " [0.15555905]\n",
      " [0.15356258]\n",
      " [0.14933948]\n",
      " [0.14419494]\n",
      " [0.13651711]\n",
      " [0.1305282 ]\n",
      " [0.12215894]\n",
      " [0.11417378]]\n",
      "Avg training accuracies per D: [0.75982801 0.82186678 0.84444095 0.84643742 0.85066052 0.85580506\n",
      " 0.86348289 0.8694718  0.87784106 0.88582622]\n"
     ]
    }
   ],
   "source": [
    "dt_income_accs = []\n",
    "# 20% Training and 80% Testing \n",
    "income_x_train_20, income_x_test_80, income_y_train_20, income_y_test_80 = train_test_split(income_x, income_y, test_size=0.8)\n",
    "opt_D, cross_validation_accuracies, cross_validation_errors, mean_training_accuracies, mean_training_errors, test_accuracy, test_error  =  calcDTMetrics(income_x_train_20, income_x_test_80, income_y_train_20, income_y_test_80, D_list)\n",
    "\n",
    "draw_heatmap(cross_validation_errors, D_list, title='cross-validation error w.r.t D')\n",
    "print(\"Best D: {}\".format(opt_D))\n",
    "print(\"Test error: {}\".format(test_error))\n",
    "print(\"Test accuracy: {}\".format(test_accuracy))\n",
    "print(\"Avg training error per D: {}\".format(mean_training_errors))\n",
    "print(\"Avg training accuracies per D: {}\".format(mean_training_accuracies))\n",
    "\n",
    "dt_income_accs.append(test_accuracy)"
   ]
  },
  {
   "cell_type": "code",
   "execution_count": 115,
   "id": "0bda35e1",
   "metadata": {
    "scrolled": false
   },
   "outputs": [
    {
     "data": {
      "image/png": "[encoded data removed]",
      "text/plain": [
       "<Figure size 144x288 with 2 Axes>"
      ]
     },
     "metadata": {
      "needs_background": "light"
     },
     "output_type": "display_data"
    },
    {
     "name": "stdout",
     "output_type": "stream",
     "text": [
      "Best D: 7\n",
      "Test error: 0.14502457002457003\n",
      "Test accuracy: 0.85497542997543\n",
      "Avg training error per D: [[0.24183047]\n",
      " [0.19582305]\n",
      " [0.1579238 ]\n",
      " [0.15740168]\n",
      " [0.14944703]\n",
      " [0.14376527]\n",
      " [0.14078622]\n",
      " [0.13713144]\n",
      " [0.13280101]\n",
      " [0.12616711]]\n",
      "Avg training accuracies per D: [0.75816953 0.80417695 0.8420762  0.84259832 0.85055297 0.85623473\n",
      " 0.85921378 0.86286856 0.86719899 0.87383289]\n"
     ]
    }
   ],
   "source": [
    "# 50% Training and 50% Testing \n",
    "income_x_train_50, income_x_test_50, income_y_train_50, income_y_test_50 = train_test_split(income_x, income_y, test_size=0.5)\n",
    "opt_D, cross_validation_accuracies, cross_validation_errors, mean_training_accuracies, mean_training_errors, test_accuracy, test_error  =  calcDTMetrics(income_x_train_50, income_x_test_50, income_y_train_50, income_y_test_50, D_list)\n",
    "\n",
    "draw_heatmap(cross_validation_errors, D_list, title='cross-validation error w.r.t D')\n",
    "print(\"Best D: {}\".format(opt_D))\n",
    "print(\"Test error: {}\".format(test_error))\n",
    "print(\"Test accuracy: {}\".format(test_accuracy))\n",
    "print(\"Avg training error per D: {}\".format(mean_training_errors))\n",
    "print(\"Avg training accuracies per D: {}\".format(mean_training_accuracies))\n",
    "\n",
    "dt_income_accs.append(test_accuracy)"
   ]
  },
  {
   "cell_type": "code",
   "execution_count": 116,
   "id": "1e825d95",
   "metadata": {
    "scrolled": false
   },
   "outputs": [
    {
     "data": {
      "image/png": "[encoded data removed]",
      "text/plain": [
       "<Figure size 144x288 with 2 Axes>"
      ]
     },
     "metadata": {
      "needs_background": "light"
     },
     "output_type": "display_data"
    },
    {
     "name": "stdout",
     "output_type": "stream",
     "text": [
      "Best D: 8\n",
      "Test error: 0.14388820638820643\n",
      "Test accuracy: 0.8561117936117936\n",
      "Avg training error per D: [[0.24078624]\n",
      " [0.18629052]\n",
      " [0.15644192]\n",
      " [0.15626916]\n",
      " [0.15256445]\n",
      " [0.14590369]\n",
      " [0.14175751]\n",
      " [0.13724662]\n",
      " [0.13331161]\n",
      " [0.12922302]]\n",
      "Avg training accuracies per D: [0.75921376 0.81370948 0.84355808 0.84373084 0.84743555 0.85409631\n",
      " 0.85824249 0.86275338 0.86668839 0.87077698]\n"
     ]
    }
   ],
   "source": [
    "# 80% Training and 20% Testing \n",
    "income_x_train_80, income_x_test_20, income_y_train_80, income_y_test_20 = train_test_split(income_x, income_y, test_size=0.2)\n",
    "opt_D, cross_validation_accuracies, cross_validation_errors, mean_training_accuracies, mean_training_errors, test_accuracy, test_error  =  calcDTMetrics(income_x_train_80, income_x_test_20, income_y_train_80, income_y_test_20 , D_list)\n",
    "\n",
    "draw_heatmap(cross_validation_errors, D_list, title='cross-validation error w.r.t D')\n",
    "print(\"Best D: {}\".format(opt_D))\n",
    "print(\"Test error: {}\".format(test_error))\n",
    "print(\"Test accuracy: {}\".format(test_accuracy))\n",
    "print(\"Avg training error per D: {}\".format(mean_training_errors))\n",
    "print(\"Avg training accuracies per D: {}\".format(mean_training_accuracies))\n",
    "\n",
    "dt_income_accs.append(test_accuracy)"
   ]
  },
  {
   "cell_type": "markdown",
   "id": "f4167acb",
   "metadata": {},
   "source": [
    "## Decision Tree for Mushroom"
   ]
  },
  {
   "cell_type": "code",
   "execution_count": 117,
   "id": "19c3c913",
   "metadata": {
    "scrolled": false
   },
   "outputs": [
    {
     "data": {
      "image/png": "[encoded data removed]",
      "text/plain": [
       "<Figure size 144x288 with 2 Axes>"
      ]
     },
     "metadata": {
      "needs_background": "light"
     },
     "output_type": "display_data"
    },
    {
     "name": "stdout",
     "output_type": "stream",
     "text": [
      "Best D: 6\n",
      "Test error: 0.1515663390663391\n",
      "Test accuracy: 0.8484336609336609\n",
      "Avg training error per D: [[0.23141892]\n",
      " [0.18481252]\n",
      " [0.15164315]\n",
      " [0.15018428]\n",
      " [0.14189218]\n",
      " [0.13928161]\n",
      " [0.13490495]\n",
      " [0.13022131]\n",
      " [0.12238957]\n",
      " [0.11463453]]\n",
      "Avg training accuracies per D: [0.76858108 0.81518748 0.84835685 0.84981572 0.85810782 0.86071839\n",
      " 0.86509505 0.86977869 0.87761043 0.88536547]\n"
     ]
    }
   ],
   "source": [
    "dt_mushroom_accs = []\n",
    "\n",
    "# 20% Training and 80% Testing \n",
    "mushroom_x_train_20, mushroom_x_test_80, mushroom_y_train_20, mushroom_y_test_80 = train_test_split(income_x, income_y, test_size=0.8)\n",
    "opt_D, cross_validation_accuracies, cross_validation_errors, mean_training_accuracies, mean_training_errors, test_accuracy, test_error  =  calcDTMetrics(mushroom_x_train_20, mushroom_x_test_80, mushroom_y_train_20, mushroom_y_test_80, D_list)\n",
    "\n",
    "draw_heatmap(cross_validation_errors, D_list, title='cross-validation error w.r.t D')\n",
    "print(\"Best D: {}\".format(opt_D))\n",
    "print(\"Test error: {}\".format(test_error))\n",
    "print(\"Test accuracy: {}\".format(test_accuracy))\n",
    "print(\"Avg training error per D: {}\".format(mean_training_errors))\n",
    "print(\"Avg training accuracies per D: {}\".format(mean_training_accuracies))\n",
    "\n",
    "dt_mushroom_accs.append(test_accuracy)"
   ]
  },
  {
   "cell_type": "code",
   "execution_count": 118,
   "id": "56d79b7a",
   "metadata": {
    "scrolled": false
   },
   "outputs": [
    {
     "data": {
      "image/png": "[encoded data removed]",
      "text/plain": [
       "<Figure size 144x288 with 2 Axes>"
      ]
     },
     "metadata": {
      "needs_background": "light"
     },
     "output_type": "display_data"
    },
    {
     "name": "stdout",
     "output_type": "stream",
     "text": [
      "Best D: 8\n",
      "Test error: 0.149017199017199\n",
      "Test accuracy: 0.850982800982801\n",
      "Avg training error per D: [[0.23937346]\n",
      " [0.17801008]\n",
      " [0.15605039]\n",
      " [0.15595826]\n",
      " [0.15205775]\n",
      " [0.14404186]\n",
      " [0.13977278]\n",
      " [0.13445947]\n",
      " [0.12954551]\n",
      " [0.12361802]]\n",
      "Avg training accuracies per D: [0.76062654 0.82198992 0.84394961 0.84404174 0.84794225 0.85595814\n",
      " 0.86022722 0.86554053 0.87045449 0.87638198]\n"
     ]
    }
   ],
   "source": [
    "# 50% Training and 50% Testing \n",
    "mushroom_x_train_50, mushroom_x_test_50, mushroom_y_train_50, mushroom_y_test_50 = train_test_split(income_x, income_y, test_size=0.5)\n",
    "opt_D, cross_validation_accuracies, cross_validation_errors, mean_training_accuracies, mean_training_errors, test_accuracy, test_error  =  calcDTMetrics(mushroom_x_train_50, mushroom_x_test_50, mushroom_y_train_50, mushroom_y_test_50, D_list)\n",
    "\n",
    "draw_heatmap(cross_validation_errors, D_list, title='cross-validation error w.r.t D')\n",
    "print(\"Best D: {}\".format(opt_D))\n",
    "print(\"Test error: {}\".format(test_error))\n",
    "print(\"Test accuracy: {}\".format(test_accuracy))\n",
    "print(\"Avg training error per D: {}\".format(mean_training_errors))\n",
    "print(\"Avg training accuracies per D: {}\".format(mean_training_accuracies))\n",
    "\n",
    "dt_mushroom_accs.append(test_accuracy)"
   ]
  },
  {
   "cell_type": "code",
   "execution_count": 119,
   "id": "dae86e24",
   "metadata": {
    "scrolled": false
   },
   "outputs": [
    {
     "data": {
      "image/png": "[encoded data removed]",
      "text/plain": [
       "<Figure size 144x288 with 2 Axes>"
      ]
     },
     "metadata": {
      "needs_background": "light"
     },
     "output_type": "display_data"
    },
    {
     "name": "stdout",
     "output_type": "stream",
     "text": [
      "Best D: 10\n",
      "Test error: 0.14619164619164615\n",
      "Test accuracy: 0.8538083538083538\n",
      "Avg training error per D: [[0.24132371]\n",
      " [0.19560043]\n",
      " [0.15694102]\n",
      " [0.15669149]\n",
      " [0.15091377]\n",
      " [0.14640284]\n",
      " [0.14171914]\n",
      " [0.13849433]\n",
      " [0.13363791]\n",
      " [0.12828241]]\n",
      "Avg training accuracies per D: [0.75867629 0.80439957 0.84305898 0.84330851 0.84908623 0.85359716\n",
      " 0.85828086 0.86150567 0.86636209 0.87171759]\n"
     ]
    }
   ],
   "source": [
    "# 80% Training and 20% Testing \n",
    "mushroom_x_train_80, mushroom_x_test_20, mushroom_y_train_80, mushroom_y_test_20 = train_test_split(income_x, income_y, test_size=0.2)\n",
    "opt_D, cross_validation_accuracies, cross_validation_errors, mean_training_accuracies, mean_training_errors, test_accuracy, test_error  =  calcDTMetrics(mushroom_x_train_80, mushroom_x_test_20, mushroom_y_train_80, mushroom_y_test_20, D_list)\n",
    "\n",
    "draw_heatmap(cross_validation_errors, D_list, title='cross-validation error w.r.t D')\n",
    "print(\"Best D: {}\".format(opt_D))\n",
    "print(\"Test error: {}\".format(test_error))\n",
    "print(\"Test accuracy: {}\".format(test_accuracy))\n",
    "print(\"Avg training error per D: {}\".format(mean_training_errors))\n",
    "print(\"Avg training accuracies per D: {}\".format(mean_training_accuracies))\n",
    "\n",
    "dt_mushroom_accs.append(test_accuracy)"
   ]
  },
  {
   "cell_type": "code",
   "execution_count": 120,
   "id": "a15ea9ca",
   "metadata": {
    "scrolled": true
   },
   "outputs": [
    {
     "name": "stdout",
     "output_type": "stream",
     "text": [
      "0.8509836541086542\n"
     ]
    }
   ],
   "source": [
    "average_dt_accuracy = np.sum([a + b + c for a, b, c in zip(dt_bank_accs, dt_income_accs, dt_mushroom_accs)]) / 9\n",
    "print(average_dt_accuracy)"
   ]
  },
  {
   "cell_type": "code",
   "execution_count": 132,
   "id": "e3ad3f68",
   "metadata": {
    "scrolled": false
   },
   "outputs": [
    {
     "data": {
      "image/png": "[encoded data removed]",
      "text/plain": [
       "<Figure size 720x432 with 1 Axes>"
      ]
     },
     "metadata": {
      "needs_background": "light"
     },
     "output_type": "display_data"
    },
    {
     "data": {
      "image/png": "[encoded data removed]",
      "text/plain": [
       "<Figure size 720x432 with 1 Axes>"
      ]
     },
     "metadata": {
      "needs_background": "light"
     },
     "output_type": "display_data"
    },
    {
     "data": {
      "image/png": "[encoded data removed]",
      "text/plain": [
       "<Figure size 720x432 with 1 Axes>"
      ]
     },
     "metadata": {
      "needs_background": "light"
     },
     "output_type": "display_data"
    }
   ],
   "source": [
    "\n",
    "data = {\n",
    "    'SVM': [svm_bank_accs, svm_income_accs, svm_mushroom_accs],\n",
    "    'KNN': [knn_bank_accs, knn_income_accs, knn_mushroom_accs],\n",
    "    'Decision Tree': [dt_bank_accs, dt_income_accs, dt_mushroom_accs],\n",
    "}\n",
    "\n",
    "\n",
    "\n",
    "# Data preparation\n",
    "datasets = ['Bank', 'Income', 'Mushroom']\n",
    "classifiers = ['SVM', 'KNN', 'Decision Tree']\n",
    "\n",
    "# Plotting\n",
    "for i, dataset in enumerate(datasets):\n",
    "    plt.figure(figsize=(10, 6))\n",
    "    plt.title(f'Classifier Accuracies for {dataset} Dataset')\n",
    "    plt.xlabel('Training Split')\n",
    "    plt.ylabel('Accuracy')\n",
    "\n",
    "    for classifier in classifiers:\n",
    "        accs = data[classifier][i]\n",
    "        splits = ['20/80', '50/50', '80/20']\n",
    "        plt.plot(splits, accs, label=classifier)\n",
    "\n",
    "    plt.legend()\n",
    "    plt.show()"
   ]
  },
  {
   "cell_type": "code",
   "execution_count": 163,
   "id": "22a07e88",
   "metadata": {
    "scrolled": false
   },
   "outputs": [
    {
     "name": "stdout",
     "output_type": "stream",
     "text": [
      "Average Accuracy for SVM: 0.8129513555625177\n",
      "Average Accuracy for KNN: 0.8095120429254115\n",
      "Average Accuracy for Decision Tree: 0.8478194103194102\n"
     ]
    },
    {
     "data": {
      "image/png": "[encoded data removed]",
      "text/plain": [
       "<Figure size 720x432 with 1 Axes>"
      ]
     },
     "metadata": {
      "needs_background": "light"
     },
     "output_type": "display_data"
    },
    {
     "name": "stdout",
     "output_type": "stream",
     "text": [
      "Average Accuracy for SVM: 0.8190231054890879\n",
      "Average Accuracy for KNN: 0.8185343714782801\n",
      "Average Accuracy for Decision Tree: 0.8535421785421785\n"
     ]
    },
    {
     "data": {
      "image/png": "[encoded data removed]",
      "text/plain": [
       "<Figure size 720x432 with 1 Axes>"
      ]
     },
     "metadata": {
      "needs_background": "light"
     },
     "output_type": "display_data"
    },
    {
     "name": "stdout",
     "output_type": "stream",
     "text": [
      "Average Accuracy for SVM: 0.8183599698791006\n",
      "Average Accuracy for KNN: 0.8246645123856778\n",
      "Average Accuracy for Decision Tree: 0.8556511056511056\n"
     ]
    },
    {
     "data": {
      "image/png": "[encoded data removed]",
      "text/plain": [
       "<Figure size 720x432 with 1 Axes>"
      ]
     },
     "metadata": {
      "needs_background": "light"
     },
     "output_type": "display_data"
    }
   ],
   "source": [
    "bar_width = 0.2  # Width of each bar\n",
    "bar_positions = np.arange(len(datasets))\n",
    "colors = plt.cm.Set3(np.linspace(0, 1, len(classifiers)))\n",
    "\n",
    "for i, split in enumerate(['20/80', '50/50', '80/20']):\n",
    "    plt.figure(figsize=(10, 6))\n",
    "    plt.title(f'Classifier Accuracies for {split} Training Split')\n",
    "    plt.xlabel('Dataset')\n",
    "    plt.ylabel('Accuracy')\n",
    "    plt.xticks(bar_positions, datasets)\n",
    "    \n",
    "    for j, (classifier, color) in enumerate(zip(classifiers, colors)):\n",
    "        accs = [data[classifier][k][i] for k in range(len(datasets))]\n",
    "        plt.bar(bar_positions + j * bar_width, accs, width=bar_width, label=classifier,  color=color)\n",
    "        \n",
    "        avg_acc = np.mean(accs)\n",
    "        print(\"Average Accuracy for {}: {}\".format(classifier, avg_acc))\n",
    "\n",
    "    plt.legend(loc='upper center', bbox_to_anchor=(0.5, 1.15), fancybox=True, shadow=True, ncol=len(classifiers))\n",
    "  \n",
    "    plt.grid(True)\n",
    "    plt.show()"
   ]
  },
  {
   "cell_type": "code",
   "execution_count": 123,
   "id": "5dd43d06",
   "metadata": {
    "scrolled": false
   },
   "outputs": [
    {
     "data": {
      "image/png": "[encoded data removed]",
      "text/plain": [
       "<Figure size 720x432 with 1 Axes>"
      ]
     },
     "metadata": {
      "needs_background": "light"
     },
     "output_type": "display_data"
    }
   ],
   "source": [
    "average_accuracies = [np.mean(np.array(data[classifier])) for classifier in classifiers]\n",
    "\n",
    "\n",
    "df_data = pd.DataFrame({\n",
    "    'Classifier': classifiers,\n",
    "    'Average Accuracy': average_accuracies\n",
    "})\n",
    "\n",
    "# Create a horizontal bar plot\n",
    "plt.figure(figsize=(10, 6))\n",
    "sns.barplot(x='Average Accuracy', y='Classifier', data=df_data, palette='viridis', ci=None)\n",
    "plt.title('Average Accuracies of Classifiers')\n",
    "plt.xlabel('Average Accuracy')\n",
    "plt.ylabel('Classifier')\n",
    "\n",
    "# Add labels for each point\n",
    "for i, v in enumerate(average_accuracies):\n",
    "    plt.text(v + 0.01, i, f'{v:.3f}', color='black', va='center', fontweight='bold')\n",
    "\n",
    "plt.show()"
   ]
  },
  {
   "cell_type": "code",
   "execution_count": 124,
   "id": "a2257c71",
   "metadata": {
    "scrolled": false
   },
   "outputs": [
    {
     "data": {
      "image/png": "[encoded data removed]",
      "text/plain": [
       "<Figure size 720x432 with 2 Axes>"
      ]
     },
     "metadata": {
      "needs_background": "light"
     },
     "output_type": "display_data"
    }
   ],
   "source": [
    "# Convert accuracy data to a 2D NumPy array\n",
    "heatmap_data = np.array([[data[classifier][i][j] for j in range(len(datasets))] for i in range(len(datasets))])\n",
    "\n",
    "# Plotting the heatmap\n",
    "plt.figure(figsize=(10, 6))\n",
    "plt.imshow(heatmap_data, cmap='viridis', interpolation='nearest', aspect='auto')\n",
    "\n",
    "plt.colorbar(label='Accuracy')\n",
    "plt.title('Classifier Accuracies Heatmap')\n",
    "plt.xlabel('Dataset')\n",
    "plt.ylabel('Classifier')\n",
    "plt.xticks(np.arange(len(datasets)), datasets)\n",
    "plt.yticks(np.arange(len(classifiers)), classifiers)\n",
    "\n",
    "plt.show()"
   ]
  },
  {
   "cell_type": "code",
   "execution_count": null,
   "id": "e7587cff",
   "metadata": {
    "scrolled": true
   },
   "outputs": [],
   "source": []
  }
 ],
 "metadata": {
  "kernelspec": {
   "display_name": "Python 3 (clean)",
   "language": "python",
   "name": "python3_clean"
  },
  "language_info": {
   "codemirror_mode": {
    "name": "ipython",
    "version": 3
   },
   "file_extension": ".py",
   "mimetype": "text/x-python",
   "name": "python",
   "nbconvert_exporter": "python",
   "pygments_lexer": "ipython3",
   "version": "3.9.5"
  }
 },
 "nbformat": 4,
 "nbformat_minor": 5
}
